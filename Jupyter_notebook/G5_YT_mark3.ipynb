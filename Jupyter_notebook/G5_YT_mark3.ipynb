{
  "cells": [
    {
      "cell_type": "markdown",
      "metadata": {
        "id": "rntJPk4H2OoF"
      },
      "source": [
        "# Download YouTube Video's Audio"
      ]
    },
    {
      "cell_type": "code",
      "source": [
        "!pip install youtube-transcript-api\n",
        "from youtube_transcript_api import YouTubeTranscriptApi\n",
        "!pip install langdetect\n",
        "from youtube_transcript_api import YouTubeTranscriptApi, TranscriptsDisabled\n",
        "# from translate import Translator\n",
        "from langdetect import detect\n",
        "!pip install translate"
      ],
      "metadata": {
        "colab": {
          "base_uri": "https://localhost:8080/"
        },
        "id": "WAdcC6o53ZV8",
        "outputId": "f097d5aa-ef78-46ae-d3e0-d9d206a8bd08"
      },
      "execution_count": 31,
      "outputs": [
        {
          "output_type": "stream",
          "name": "stdout",
          "text": [
            "Requirement already satisfied: youtube-transcript-api in /usr/local/lib/python3.10/dist-packages (0.6.2)\n",
            "Requirement already satisfied: requests in /usr/local/lib/python3.10/dist-packages (from youtube-transcript-api) (2.31.0)\n",
            "Requirement already satisfied: charset-normalizer<4,>=2 in /usr/local/lib/python3.10/dist-packages (from requests->youtube-transcript-api) (3.3.2)\n",
            "Requirement already satisfied: idna<4,>=2.5 in /usr/local/lib/python3.10/dist-packages (from requests->youtube-transcript-api) (3.6)\n",
            "Requirement already satisfied: urllib3<3,>=1.21.1 in /usr/local/lib/python3.10/dist-packages (from requests->youtube-transcript-api) (2.0.7)\n",
            "Requirement already satisfied: certifi>=2017.4.17 in /usr/local/lib/python3.10/dist-packages (from requests->youtube-transcript-api) (2023.11.17)\n",
            "Requirement already satisfied: langdetect in /usr/local/lib/python3.10/dist-packages (1.0.9)\n",
            "Requirement already satisfied: six in /usr/local/lib/python3.10/dist-packages (from langdetect) (1.16.0)\n",
            "Collecting translate\n",
            "  Downloading translate-3.6.1-py2.py3-none-any.whl (12 kB)\n",
            "Requirement already satisfied: click in /usr/local/lib/python3.10/dist-packages (from translate) (8.1.7)\n",
            "Requirement already satisfied: lxml in /usr/local/lib/python3.10/dist-packages (from translate) (4.9.4)\n",
            "Requirement already satisfied: requests in /usr/local/lib/python3.10/dist-packages (from translate) (2.31.0)\n",
            "Collecting libretranslatepy==2.1.1 (from translate)\n",
            "  Downloading libretranslatepy-2.1.1-py3-none-any.whl (3.2 kB)\n",
            "Requirement already satisfied: charset-normalizer<4,>=2 in /usr/local/lib/python3.10/dist-packages (from requests->translate) (3.3.2)\n",
            "Requirement already satisfied: idna<4,>=2.5 in /usr/local/lib/python3.10/dist-packages (from requests->translate) (3.6)\n",
            "Requirement already satisfied: urllib3<3,>=1.21.1 in /usr/local/lib/python3.10/dist-packages (from requests->translate) (2.0.7)\n",
            "Requirement already satisfied: certifi>=2017.4.17 in /usr/local/lib/python3.10/dist-packages (from requests->translate) (2023.11.17)\n",
            "Installing collected packages: libretranslatepy, translate\n",
            "Successfully installed libretranslatepy-2.1.1 translate-3.6.1\n"
          ]
        }
      ]
    },
    {
      "cell_type": "code",
      "execution_count": 32,
      "metadata": {
        "id": "z4s2ZtSmHj3-"
      },
      "outputs": [],
      "source": [
        " VIDEO_URL = 'https://www.youtube.com/watch?v=qWdyhFiyH0Y'   #works\n",
        "# VIDEO_URL='https://www.youtube.com/watch?v=NLY8_ZnGGcU'\n",
        "#VIDEO_URL = 'https://www.youtube.com/watch?v=1Cl-sT093N8'    #works"
      ]
    },
    {
      "cell_type": "code",
      "execution_count": 33,
      "metadata": {
        "id": "biNqr7WRdNPq"
      },
      "outputs": [],
      "source": [
        "# !pip install torch==2.1.0 torchdata==0.7.0 torchtext==0.16.0 torchvision==0.16.0+cu121"
      ]
    },
    {
      "cell_type": "code",
      "source": [
        "if '=' in VIDEO_URL:\n",
        "  video_id=VIDEO_URL.split('=')[1]\n",
        "else:\n",
        "  video_id=''\n",
        "  print(\"Invalid URL\")\n",
        "srt = YouTubeTranscriptApi.get_transcript(video_id)\n",
        "\n",
        "# prints the result\n",
        "print(srt)"
      ],
      "metadata": {
        "colab": {
          "base_uri": "https://localhost:8080/"
        },
        "id": "D3tH6uSF3sF1",
        "outputId": "7534e0b1-811a-4386-9b24-cc10403926fa"
      },
      "execution_count": 34,
      "outputs": [
        {
          "output_type": "stream",
          "name": "stdout",
          "text": [
            "[{'text': '[Music]', 'start': 0.0, 'duration': 3.6}, {'text': \"having grown into the internet's largest\", 'start': 1.92, 'duration': 3.52}, {'text': 'video platform youtube has grown to', 'start': 3.6, 'duration': 3.52}, {'text': 'accommodate its global audience by', 'start': 5.44, 'duration': 3.28}, {'text': 'throwing in a few useful features on the', 'start': 7.12, 'duration': 3.36}, {'text': 'desktop site', 'start': 8.72, 'duration': 2.959}, {'text': \"if you've ever needed a written\", 'start': 10.48, 'duration': 2.88}, {'text': 'transcript for a video uploaded to', 'start': 11.679, 'duration': 5.881}, {'text': \"youtube here's how you could find it\", 'start': 13.36, 'duration': 5.999}, {'text': '[Music]', 'start': 17.56, 'duration': 3.96}, {'text': 'before we begin it should be mentioned', 'start': 19.359, 'duration': 4.08}, {'text': 'that transcripts are only available if', 'start': 21.52, 'duration': 3.999}, {'text': 'closed captions have been enabled or', 'start': 23.439, 'duration': 3.92}, {'text': \"uploaded by the video's owner\", 'start': 25.519, 'duration': 3.68}, {'text': \"if you don't see a closed caption icons\", 'start': 27.359, 'duration': 3.361}, {'text': 'on the video itself', 'start': 29.199, 'duration': 3.441}, {'text': 'you may not find a transcript available', 'start': 30.72, 'duration': 3.2}, {'text': 'for it', 'start': 32.64, 'duration': 3.68}, {'text': 'that being said you can check for one by', 'start': 33.92, 'duration': 3.76}, {'text': 'opening the youtube video you need the', 'start': 36.32, 'duration': 3.04}, {'text': 'transcript for on the browser of your', 'start': 37.68, 'duration': 2.96}, {'text': 'choice', 'start': 39.36, 'duration': 3.359}, {'text': 'as of the time of recording there is no', 'start': 40.64, 'duration': 4.079}, {'text': \"way to do this on youtube's mobile site\", 'start': 42.719, 'duration': 3.601}, {'text': 'or the app', 'start': 44.719, 'duration': 2.961}, {'text': 'click on the triple dotted icon', 'start': 46.32, 'duration': 3.12}, {'text': 'underneath the video next to the save', 'start': 47.68, 'duration': 2.719}, {'text': 'icon', 'start': 49.44, 'duration': 2.959}, {'text': 'then click on open transcript and a', 'start': 50.399, 'duration': 3.601}, {'text': 'transcript window will open to the right', 'start': 52.399, 'duration': 3.441}, {'text': \"of the video if you're in default view\", 'start': 54.0, 'duration': 3.44}, {'text': \"or under the video if you're in theater\", 'start': 55.84, 'duration': 2.96}, {'text': 'mode', 'start': 57.44, 'duration': 3.919}, {'text': 'as the video plays lines of text next to', 'start': 58.8, 'duration': 4.239}, {'text': 'the given timestamp will be highlighted', 'start': 61.359, 'duration': 3.361}, {'text': \"as they're spoken\", 'start': 63.039, 'duration': 3.12}, {'text': \"you don't want to see time stamps for\", 'start': 64.72, 'duration': 3.439}, {'text': 'each line you can find the option to', 'start': 66.159, 'duration': 3.441}, {'text': 'toggle them off by clicking on the', 'start': 68.159, 'duration': 3.121}, {'text': 'triple dotted icon at the top right of', 'start': 69.6, 'duration': 3.12}, {'text': 'the window', 'start': 71.28, 'duration': 3.12}, {'text': \"if you're looking for a specific word or\", 'start': 72.72, 'duration': 3.68}, {'text': 'topic mentioned in the video you can try', 'start': 74.4, 'duration': 3.44}, {'text': \"searching for it through this page's\", 'start': 76.4, 'duration': 3.12}, {'text': 'search function just hold down your', 'start': 77.84, 'duration': 4.16}, {'text': 'control key and tap f to bring it up', 'start': 79.52, 'duration': 3.919}, {'text': 'each line can be clicked on to navigate', 'start': 82.0, 'duration': 4.0}, {'text': 'to that specific point in the video if', 'start': 83.439, 'duration': 4.161}, {'text': 'there are multiple languages available', 'start': 86.0, 'duration': 3.2}, {'text': 'an arrow will show next to the current', 'start': 87.6, 'duration': 3.04}, {'text': 'transcript language at the bottom of the', 'start': 89.2, 'duration': 2.72}, {'text': 'window', 'start': 90.64, 'duration': 2.64}, {'text': 'clicking on it will allow you to choose', 'start': 91.92, 'duration': 3.68}, {'text': 'which language is displayed', 'start': 93.28, 'duration': 4.4}, {'text': 'to save a copy scroll to the top of the', 'start': 95.6, 'duration': 4.4}, {'text': 'given transcript then click and drag', 'start': 97.68, 'duration': 3.52}, {'text': 'your cursor from the beginning of the', 'start': 100.0, 'duration': 3.68}, {'text': 'transcript to the end to highlight it', 'start': 101.2, 'duration': 4.239}, {'text': 'from here you can copy and paste the', 'start': 103.68, 'duration': 4.56}, {'text': 'entire transcript into another document', 'start': 105.439, 'duration': 4.64}, {'text': 'transcripts for some videos have been', 'start': 108.24, 'duration': 3.76}, {'text': 'automatically generated and may not be', 'start': 110.079, 'duration': 5.36}, {'text': 'entirely accurate if you like this guide', 'start': 112.0, 'duration': 4.96}, {'text': 'make sure you subscribe for all sorts of', 'start': 115.439, 'duration': 3.201}, {'text': 'videos covering youtube and other', 'start': 116.96, 'duration': 2.96}, {'text': 'technology', 'start': 118.64, 'duration': 2.479}, {'text': \"and don't forget to check out one of\", 'start': 119.92, 'duration': 5.32}, {'text': 'these videos we think you might enjoy', 'start': 121.119, 'duration': 11.84}, {'text': '[Music]', 'start': 125.24, 'duration': 9.8}, {'text': 'you', 'start': 132.959, 'duration': 2.081}]\n"
          ]
        }
      ]
    },
    {
      "cell_type": "code",
      "source": [
        "if '=' in VIDEO_URL:\n",
        "    video_id = VIDEO_URL.split('=')[1]\n",
        "else:\n",
        "    video_id = ''\n",
        "    print(\"Invalid URL\")\n",
        "\n",
        "try:\n",
        "    srt = YouTubeTranscriptApi.get_transcript(video_id,languages=['en','hi'])\n",
        "    # prints the result\n",
        "    print(srt)\n",
        "except TranscriptsDisabled:\n",
        "    print(\"Transcripts are disabled for this video.\")\n",
        "except Exception as e:\n",
        "    print(f\"An error occurred: {e}\")"
      ],
      "metadata": {
        "colab": {
          "base_uri": "https://localhost:8080/"
        },
        "id": "-KbVYH7aMyTO",
        "outputId": "6f49ae7a-1333-4274-fe03-ea7d912bb9f6"
      },
      "execution_count": 35,
      "outputs": [
        {
          "output_type": "stream",
          "name": "stdout",
          "text": [
            "[{'text': '[Music]', 'start': 0.0, 'duration': 3.6}, {'text': \"having grown into the internet's largest\", 'start': 1.92, 'duration': 3.52}, {'text': 'video platform youtube has grown to', 'start': 3.6, 'duration': 3.52}, {'text': 'accommodate its global audience by', 'start': 5.44, 'duration': 3.28}, {'text': 'throwing in a few useful features on the', 'start': 7.12, 'duration': 3.36}, {'text': 'desktop site', 'start': 8.72, 'duration': 2.959}, {'text': \"if you've ever needed a written\", 'start': 10.48, 'duration': 2.88}, {'text': 'transcript for a video uploaded to', 'start': 11.679, 'duration': 5.881}, {'text': \"youtube here's how you could find it\", 'start': 13.36, 'duration': 5.999}, {'text': '[Music]', 'start': 17.56, 'duration': 3.96}, {'text': 'before we begin it should be mentioned', 'start': 19.359, 'duration': 4.08}, {'text': 'that transcripts are only available if', 'start': 21.52, 'duration': 3.999}, {'text': 'closed captions have been enabled or', 'start': 23.439, 'duration': 3.92}, {'text': \"uploaded by the video's owner\", 'start': 25.519, 'duration': 3.68}, {'text': \"if you don't see a closed caption icons\", 'start': 27.359, 'duration': 3.361}, {'text': 'on the video itself', 'start': 29.199, 'duration': 3.441}, {'text': 'you may not find a transcript available', 'start': 30.72, 'duration': 3.2}, {'text': 'for it', 'start': 32.64, 'duration': 3.68}, {'text': 'that being said you can check for one by', 'start': 33.92, 'duration': 3.76}, {'text': 'opening the youtube video you need the', 'start': 36.32, 'duration': 3.04}, {'text': 'transcript for on the browser of your', 'start': 37.68, 'duration': 2.96}, {'text': 'choice', 'start': 39.36, 'duration': 3.359}, {'text': 'as of the time of recording there is no', 'start': 40.64, 'duration': 4.079}, {'text': \"way to do this on youtube's mobile site\", 'start': 42.719, 'duration': 3.601}, {'text': 'or the app', 'start': 44.719, 'duration': 2.961}, {'text': 'click on the triple dotted icon', 'start': 46.32, 'duration': 3.12}, {'text': 'underneath the video next to the save', 'start': 47.68, 'duration': 2.719}, {'text': 'icon', 'start': 49.44, 'duration': 2.959}, {'text': 'then click on open transcript and a', 'start': 50.399, 'duration': 3.601}, {'text': 'transcript window will open to the right', 'start': 52.399, 'duration': 3.441}, {'text': \"of the video if you're in default view\", 'start': 54.0, 'duration': 3.44}, {'text': \"or under the video if you're in theater\", 'start': 55.84, 'duration': 2.96}, {'text': 'mode', 'start': 57.44, 'duration': 3.919}, {'text': 'as the video plays lines of text next to', 'start': 58.8, 'duration': 4.239}, {'text': 'the given timestamp will be highlighted', 'start': 61.359, 'duration': 3.361}, {'text': \"as they're spoken\", 'start': 63.039, 'duration': 3.12}, {'text': \"you don't want to see time stamps for\", 'start': 64.72, 'duration': 3.439}, {'text': 'each line you can find the option to', 'start': 66.159, 'duration': 3.441}, {'text': 'toggle them off by clicking on the', 'start': 68.159, 'duration': 3.121}, {'text': 'triple dotted icon at the top right of', 'start': 69.6, 'duration': 3.12}, {'text': 'the window', 'start': 71.28, 'duration': 3.12}, {'text': \"if you're looking for a specific word or\", 'start': 72.72, 'duration': 3.68}, {'text': 'topic mentioned in the video you can try', 'start': 74.4, 'duration': 3.44}, {'text': \"searching for it through this page's\", 'start': 76.4, 'duration': 3.12}, {'text': 'search function just hold down your', 'start': 77.84, 'duration': 4.16}, {'text': 'control key and tap f to bring it up', 'start': 79.52, 'duration': 3.919}, {'text': 'each line can be clicked on to navigate', 'start': 82.0, 'duration': 4.0}, {'text': 'to that specific point in the video if', 'start': 83.439, 'duration': 4.161}, {'text': 'there are multiple languages available', 'start': 86.0, 'duration': 3.2}, {'text': 'an arrow will show next to the current', 'start': 87.6, 'duration': 3.04}, {'text': 'transcript language at the bottom of the', 'start': 89.2, 'duration': 2.72}, {'text': 'window', 'start': 90.64, 'duration': 2.64}, {'text': 'clicking on it will allow you to choose', 'start': 91.92, 'duration': 3.68}, {'text': 'which language is displayed', 'start': 93.28, 'duration': 4.4}, {'text': 'to save a copy scroll to the top of the', 'start': 95.6, 'duration': 4.4}, {'text': 'given transcript then click and drag', 'start': 97.68, 'duration': 3.52}, {'text': 'your cursor from the beginning of the', 'start': 100.0, 'duration': 3.68}, {'text': 'transcript to the end to highlight it', 'start': 101.2, 'duration': 4.239}, {'text': 'from here you can copy and paste the', 'start': 103.68, 'duration': 4.56}, {'text': 'entire transcript into another document', 'start': 105.439, 'duration': 4.64}, {'text': 'transcripts for some videos have been', 'start': 108.24, 'duration': 3.76}, {'text': 'automatically generated and may not be', 'start': 110.079, 'duration': 5.36}, {'text': 'entirely accurate if you like this guide', 'start': 112.0, 'duration': 4.96}, {'text': 'make sure you subscribe for all sorts of', 'start': 115.439, 'duration': 3.201}, {'text': 'videos covering youtube and other', 'start': 116.96, 'duration': 2.96}, {'text': 'technology', 'start': 118.64, 'duration': 2.479}, {'text': \"and don't forget to check out one of\", 'start': 119.92, 'duration': 5.32}, {'text': 'these videos we think you might enjoy', 'start': 121.119, 'duration': 11.84}, {'text': '[Music]', 'start': 125.24, 'duration': 9.8}, {'text': 'you', 'start': 132.959, 'duration': 2.081}]\n"
          ]
        }
      ]
    },
    {
      "cell_type": "code",
      "source": [
        "strl=''\n",
        "for i in srt:\n",
        "  strl+=\" \"+i['text']\n",
        "print(strl)"
      ],
      "metadata": {
        "colab": {
          "base_uri": "https://localhost:8080/"
        },
        "id": "iQiUa2O_4Zcm",
        "outputId": "d5cba8b4-1ab6-4742-f0df-9c919cea9773"
      },
      "execution_count": 36,
      "outputs": [
        {
          "output_type": "stream",
          "name": "stdout",
          "text": [
            " [Music] having grown into the internet's largest video platform youtube has grown to accommodate its global audience by throwing in a few useful features on the desktop site if you've ever needed a written transcript for a video uploaded to youtube here's how you could find it [Music] before we begin it should be mentioned that transcripts are only available if closed captions have been enabled or uploaded by the video's owner if you don't see a closed caption icons on the video itself you may not find a transcript available for it that being said you can check for one by opening the youtube video you need the transcript for on the browser of your choice as of the time of recording there is no way to do this on youtube's mobile site or the app click on the triple dotted icon underneath the video next to the save icon then click on open transcript and a transcript window will open to the right of the video if you're in default view or under the video if you're in theater mode as the video plays lines of text next to the given timestamp will be highlighted as they're spoken you don't want to see time stamps for each line you can find the option to toggle them off by clicking on the triple dotted icon at the top right of the window if you're looking for a specific word or topic mentioned in the video you can try searching for it through this page's search function just hold down your control key and tap f to bring it up each line can be clicked on to navigate to that specific point in the video if there are multiple languages available an arrow will show next to the current transcript language at the bottom of the window clicking on it will allow you to choose which language is displayed to save a copy scroll to the top of the given transcript then click and drag your cursor from the beginning of the transcript to the end to highlight it from here you can copy and paste the entire transcript into another document transcripts for some videos have been automatically generated and may not be entirely accurate if you like this guide make sure you subscribe for all sorts of videos covering youtube and other technology and don't forget to check out one of these videos we think you might enjoy [Music] you\n"
          ]
        }
      ]
    },
    {
      "cell_type": "code",
      "source": [
        "from langdetect import detect\n",
        "\n",
        "\n",
        "# Detect the language of the text\n",
        "language = detect(strl)\n",
        "\n",
        "print(\"Detected language:\", language)"
      ],
      "metadata": {
        "colab": {
          "base_uri": "https://localhost:8080/"
        },
        "id": "fpuKokNzTZK8",
        "outputId": "6963b7b6-74bf-4b39-9229-459eaedafcf3"
      },
      "execution_count": 37,
      "outputs": [
        {
          "output_type": "stream",
          "name": "stdout",
          "text": [
            "Detected language: en\n"
          ]
        }
      ]
    },
    {
      "cell_type": "code",
      "source": [
        "pip install translators"
      ],
      "metadata": {
        "colab": {
          "base_uri": "https://localhost:8080/"
        },
        "id": "OCj6tP-C4E_P",
        "outputId": "1f2ce6a5-f726-4818-d9ba-4b97ee427bf1"
      },
      "execution_count": 39,
      "outputs": [
        {
          "output_type": "stream",
          "name": "stdout",
          "text": [
            "Collecting translators\n",
            "  Downloading translators-5.8.9-py3-none-any.whl (54 kB)\n",
            "\u001b[2K     \u001b[90m━━━━━━━━━━━━━━━━━━━━━━━━━━━━━━━━━━━━━━━━\u001b[0m \u001b[32m54.7/54.7 kB\u001b[0m \u001b[31m1.1 MB/s\u001b[0m eta \u001b[36m0:00:00\u001b[0m\n",
            "\u001b[?25hRequirement already satisfied: requests>=2.29.0 in /usr/local/lib/python3.10/dist-packages (from translators) (2.31.0)\n",
            "Collecting PyExecJS>=1.5.1 (from translators)\n",
            "  Downloading PyExecJS-1.5.1.tar.gz (13 kB)\n",
            "  Preparing metadata (setup.py) ... \u001b[?25l\u001b[?25hdone\n",
            "Requirement already satisfied: lxml>=4.9.1 in /usr/local/lib/python3.10/dist-packages (from translators) (4.9.4)\n",
            "Requirement already satisfied: tqdm>=4.65.0 in /usr/local/lib/python3.10/dist-packages (from translators) (4.66.1)\n",
            "Collecting pathos>=0.2.9 (from translators)\n",
            "  Downloading pathos-0.3.2-py3-none-any.whl (82 kB)\n",
            "\u001b[2K     \u001b[90m━━━━━━━━━━━━━━━━━━━━━━━━━━━━━━━━━━━━━━━━\u001b[0m \u001b[32m82.1/82.1 kB\u001b[0m \u001b[31m6.2 MB/s\u001b[0m eta \u001b[36m0:00:00\u001b[0m\n",
            "\u001b[?25hRequirement already satisfied: cryptography>=38.0.1 in /usr/local/lib/python3.10/dist-packages (from translators) (42.0.2)\n",
            "Requirement already satisfied: cffi>=1.12 in /usr/local/lib/python3.10/dist-packages (from cryptography>=38.0.1->translators) (1.16.0)\n",
            "Collecting ppft>=1.7.6.8 (from pathos>=0.2.9->translators)\n",
            "  Downloading ppft-1.7.6.8-py3-none-any.whl (56 kB)\n",
            "\u001b[2K     \u001b[90m━━━━━━━━━━━━━━━━━━━━━━━━━━━━━━━━━━━━━━━━\u001b[0m \u001b[32m56.8/56.8 kB\u001b[0m \u001b[31m4.9 MB/s\u001b[0m eta \u001b[36m0:00:00\u001b[0m\n",
            "\u001b[?25hCollecting dill>=0.3.8 (from pathos>=0.2.9->translators)\n",
            "  Downloading dill-0.3.8-py3-none-any.whl (116 kB)\n",
            "\u001b[2K     \u001b[90m━━━━━━━━━━━━━━━━━━━━━━━━━━━━━━━━━━━━━━━━\u001b[0m \u001b[32m116.3/116.3 kB\u001b[0m \u001b[31m15.4 MB/s\u001b[0m eta \u001b[36m0:00:00\u001b[0m\n",
            "\u001b[?25hCollecting pox>=0.3.4 (from pathos>=0.2.9->translators)\n",
            "  Downloading pox-0.3.4-py3-none-any.whl (29 kB)\n",
            "Collecting multiprocess>=0.70.16 (from pathos>=0.2.9->translators)\n",
            "  Downloading multiprocess-0.70.16-py310-none-any.whl (134 kB)\n",
            "\u001b[2K     \u001b[90m━━━━━━━━━━━━━━━━━━━━━━━━━━━━━━━━━━━━━━━━\u001b[0m \u001b[32m134.8/134.8 kB\u001b[0m \u001b[31m16.4 MB/s\u001b[0m eta \u001b[36m0:00:00\u001b[0m\n",
            "\u001b[?25hRequirement already satisfied: six>=1.10.0 in /usr/local/lib/python3.10/dist-packages (from PyExecJS>=1.5.1->translators) (1.16.0)\n",
            "Requirement already satisfied: charset-normalizer<4,>=2 in /usr/local/lib/python3.10/dist-packages (from requests>=2.29.0->translators) (3.3.2)\n",
            "Requirement already satisfied: idna<4,>=2.5 in /usr/local/lib/python3.10/dist-packages (from requests>=2.29.0->translators) (3.6)\n",
            "Requirement already satisfied: urllib3<3,>=1.21.1 in /usr/local/lib/python3.10/dist-packages (from requests>=2.29.0->translators) (2.0.7)\n",
            "Requirement already satisfied: certifi>=2017.4.17 in /usr/local/lib/python3.10/dist-packages (from requests>=2.29.0->translators) (2023.11.17)\n",
            "Requirement already satisfied: pycparser in /usr/local/lib/python3.10/dist-packages (from cffi>=1.12->cryptography>=38.0.1->translators) (2.21)\n",
            "Building wheels for collected packages: PyExecJS\n",
            "  Building wheel for PyExecJS (setup.py) ... \u001b[?25l\u001b[?25hdone\n",
            "  Created wheel for PyExecJS: filename=PyExecJS-1.5.1-py3-none-any.whl size=14578 sha256=1ebaf0bbdfad22984efd1ee25b5e1758d3f100bcbd8cde400b11b65160169785\n",
            "  Stored in directory: /root/.cache/pip/wheels/9d/91/30/28e6da53d4f44dc445349b2ffad581968447e4cbc9dd7991b8\n",
            "Successfully built PyExecJS\n",
            "Installing collected packages: PyExecJS, ppft, pox, dill, multiprocess, pathos, translators\n",
            "Successfully installed PyExecJS-1.5.1 dill-0.3.8 multiprocess-0.70.16 pathos-0.3.2 pox-0.3.4 ppft-1.7.6.8 translators-5.8.9\n"
          ]
        }
      ]
    },
    {
      "cell_type": "code",
      "source": [
        "# from translators import translator"
      ],
      "metadata": {
        "id": "viF9xivB4Mam"
      },
      "execution_count": 41,
      "outputs": []
    },
    {
      "cell_type": "code",
      "source": [
        "from translate import Translator"
      ],
      "metadata": {
        "id": "AH2_a5SM4rV5"
      },
      "execution_count": 43,
      "outputs": []
    },
    {
      "cell_type": "code",
      "source": [
        "def translate_text(text, to_lang, from_lang=None, chunk_size=500):\n",
        "    translator = Translator(to_lang=to_lang, from_lang=from_lang)\n",
        "    chunks = [text[i:i + chunk_size] for i in range(0, len(text), chunk_size)]\n",
        "    translated_chunks = [translator.translate(chunk) for chunk in chunks]\n",
        "    translated_text = ''.join(translated_chunks)\n",
        "    return translated_text\n",
        "\n",
        "\n",
        "language = 'hi'\n",
        "normal = 'en'\n",
        "\n",
        "if language == 'hi':\n",
        "    translated_text = translate_text(strl, to_lang=\"en\", from_lang=language)\n",
        "else:\n",
        "    translated_text = translate_text(strl, to_lang=\"en\", from_lang=normal)\n",
        "\n",
        "print(translated_text)\n"
      ],
      "metadata": {
        "colab": {
          "base_uri": "https://localhost:8080/"
        },
        "id": "D3ic0JYQU3SW",
        "outputId": "43eae2bc-2c62-43b6-8a0d-01afd5eb30cc"
      },
      "execution_count": 44,
      "outputs": [
        {
          "output_type": "stream",
          "name": "stdout",
          "text": [
            "[Music] having grown into the internet's largest video platform youtube has grown to accommodate its global audience by throwing in a few useful features on the desktop site if you've ever needed a written transcript for a video uploaded to youtube here's how you could find it [Music] before we begin it should be mentioned that transcripts are only available if closed captions have been enabled or uploaded by the video's owner if you don't see a closed caption icons on the video itself you maynot find a transcript available for it that being said you can check for one by opening the youtube video you need the transcript for on the browser of your choice as of the time of recording there is no way to do this on youtube's mobile site or the app click on the triple dotted icon underneath the video next to the save icon then click on open transcript and a transcript window will open to the right of the video if you're in default view or under the video if you're in theater mode as the video plays lines of text next to the given timestamp will be highlighted as they're spoken you don't want to see time stamps for each line you can find the option toggle them off by clicking on the triple dotted icon at the top right of the window if you're looking for a specific word or topic mentioned in the video you can try searching for it through this page's search function just hold down your control key and tap f to bring it up each line can be clicked on to navigate to that specific point in the video if there are multiple languages available an arrow will show next to the current transcript language at the bottom of the window clicking on it will allow you to choose which language is displayed to save a copy scroll to the top of the given transcript then click and drag your cursor from the beginning of the transcript to the end to highlight it from here you can copy and paste the entire transcript into another document transcripts for some videos have been automatically generated and may not be entirely accurate if you like this guide make sure you subscribe for all sorts of videos covering youtube and other technology and don't forget to check out one of these videos we think you might enjoy [Music] you\n"
          ]
        }
      ]
    },
    {
      "cell_type": "code",
      "source": [
        "# len(str0)"
      ],
      "metadata": {
        "id": "UtBZ7eri8lFD"
      },
      "execution_count": 46,
      "outputs": []
    },
    {
      "cell_type": "code",
      "source": [
        "l=str0.split(\" \")\n",
        "str1=\"\"\n",
        "print(l)\n",
        "for i in l:\n",
        "  if len(i)==0:\n",
        "    l.remove(i)\n",
        "  elif (i[0]=='[' and i[-1]==']'):\n",
        "    l.remove(i)\n",
        "  else:\n",
        "    str1+=i+\" \"\n",
        "print(len(l))"
      ],
      "metadata": {
        "id": "F72tu8Q08D02",
        "colab": {
          "base_uri": "https://localhost:8080/",
          "height": 245
        },
        "outputId": "462b11cc-0738-4949-aa2f-c94305335163"
      },
      "execution_count": 47,
      "outputs": [
        {
          "output_type": "error",
          "ename": "NameError",
          "evalue": "name 'str0' is not defined",
          "traceback": [
            "\u001b[0;31m---------------------------------------------------------------------------\u001b[0m",
            "\u001b[0;31mNameError\u001b[0m                                 Traceback (most recent call last)",
            "\u001b[0;32m<ipython-input-47-dd1326d812c1>\u001b[0m in \u001b[0;36m<cell line: 1>\u001b[0;34m()\u001b[0m\n\u001b[0;32m----> 1\u001b[0;31m \u001b[0ml\u001b[0m\u001b[0;34m=\u001b[0m\u001b[0mstr0\u001b[0m\u001b[0;34m.\u001b[0m\u001b[0msplit\u001b[0m\u001b[0;34m(\u001b[0m\u001b[0;34m\" \"\u001b[0m\u001b[0;34m)\u001b[0m\u001b[0;34m\u001b[0m\u001b[0;34m\u001b[0m\u001b[0m\n\u001b[0m\u001b[1;32m      2\u001b[0m \u001b[0mstr1\u001b[0m\u001b[0;34m=\u001b[0m\u001b[0;34m\"\"\u001b[0m\u001b[0;34m\u001b[0m\u001b[0;34m\u001b[0m\u001b[0m\n\u001b[1;32m      3\u001b[0m \u001b[0mprint\u001b[0m\u001b[0;34m(\u001b[0m\u001b[0ml\u001b[0m\u001b[0;34m)\u001b[0m\u001b[0;34m\u001b[0m\u001b[0;34m\u001b[0m\u001b[0m\n\u001b[1;32m      4\u001b[0m \u001b[0;32mfor\u001b[0m \u001b[0mi\u001b[0m \u001b[0;32min\u001b[0m \u001b[0ml\u001b[0m\u001b[0;34m:\u001b[0m\u001b[0;34m\u001b[0m\u001b[0;34m\u001b[0m\u001b[0m\n\u001b[1;32m      5\u001b[0m   \u001b[0;32mif\u001b[0m \u001b[0mlen\u001b[0m\u001b[0;34m(\u001b[0m\u001b[0mi\u001b[0m\u001b[0;34m)\u001b[0m\u001b[0;34m==\u001b[0m\u001b[0;36m0\u001b[0m\u001b[0;34m:\u001b[0m\u001b[0;34m\u001b[0m\u001b[0;34m\u001b[0m\u001b[0m\n",
            "\u001b[0;31mNameError\u001b[0m: name 'str0' is not defined"
          ]
        }
      ]
    },
    {
      "cell_type": "code",
      "source": [
        "str1"
      ],
      "metadata": {
        "id": "VgBCbxBY9OdX"
      },
      "execution_count": null,
      "outputs": []
    },
    {
      "cell_type": "code",
      "source": [
        "len(str1)"
      ],
      "metadata": {
        "id": "h4TE7-GZ6fdW"
      },
      "execution_count": null,
      "outputs": []
    },
    {
      "cell_type": "code",
      "source": [],
      "metadata": {
        "id": "6ciDhopm8CtO"
      },
      "execution_count": null,
      "outputs": []
    },
    {
      "cell_type": "markdown",
      "metadata": {
        "id": "Cl6sG6LY-ibU"
      },
      "source": [
        "# Text Summarization"
      ]
    },
    {
      "cell_type": "code",
      "source": [
        "pip install transformers\n",
        "from transformers import pipeline"
      ],
      "metadata": {
        "id": "DeIO2aYG5vqo"
      },
      "execution_count": null,
      "outputs": []
    },
    {
      "cell_type": "code",
      "execution_count": 27,
      "metadata": {
        "id": "8B_kTnByG2bY",
        "colab": {
          "base_uri": "https://localhost:8080/",
          "height": 227
        },
        "outputId": "7c364dce-cd6b-4e89-ff14-b78bc9b405c4"
      },
      "outputs": [
        {
          "output_type": "error",
          "ename": "NameError",
          "evalue": "name 'pipeline' is not defined",
          "traceback": [
            "\u001b[0;31m---------------------------------------------------------------------------\u001b[0m",
            "\u001b[0;31mNameError\u001b[0m                                 Traceback (most recent call last)",
            "\u001b[0;32m<ipython-input-27-0d0cf09dcc08>\u001b[0m in \u001b[0;36m<cell line: 1>\u001b[0;34m()\u001b[0m\n\u001b[0;32m----> 1\u001b[0;31m \u001b[0msummarizer\u001b[0m \u001b[0;34m=\u001b[0m \u001b[0mpipeline\u001b[0m\u001b[0;34m(\u001b[0m\u001b[0;34m\"summarization\"\u001b[0m\u001b[0;34m)\u001b[0m\u001b[0;34m\u001b[0m\u001b[0;34m\u001b[0m\u001b[0m\n\u001b[0m\u001b[1;32m      2\u001b[0m \u001b[0minput_text\u001b[0m \u001b[0;34m=\u001b[0m \u001b[0mstr1\u001b[0m\u001b[0;34m\u001b[0m\u001b[0;34m\u001b[0m\u001b[0m\n\u001b[1;32m      3\u001b[0m \u001b[0msummary\u001b[0m \u001b[0;34m=\u001b[0m \u001b[0msummarizer\u001b[0m\u001b[0;34m(\u001b[0m\u001b[0minput_text\u001b[0m\u001b[0;34m,\u001b[0m \u001b[0mmax_length\u001b[0m\u001b[0;34m=\u001b[0m\u001b[0;36m150\u001b[0m\u001b[0;34m,\u001b[0m \u001b[0mmin_length\u001b[0m\u001b[0;34m=\u001b[0m\u001b[0;36m50\u001b[0m\u001b[0;34m,\u001b[0m \u001b[0mlength_penalty\u001b[0m\u001b[0;34m=\u001b[0m\u001b[0;36m2.0\u001b[0m\u001b[0;34m,\u001b[0m \u001b[0mnum_beams\u001b[0m\u001b[0;34m=\u001b[0m\u001b[0;36m4\u001b[0m\u001b[0;34m,\u001b[0m \u001b[0mearly_stopping\u001b[0m\u001b[0;34m=\u001b[0m\u001b[0;32mTrue\u001b[0m\u001b[0;34m)\u001b[0m\u001b[0;34m\u001b[0m\u001b[0;34m\u001b[0m\u001b[0m\n\u001b[1;32m      4\u001b[0m \u001b[0mprint\u001b[0m\u001b[0;34m(\u001b[0m\u001b[0msummary\u001b[0m\u001b[0;34m[\u001b[0m\u001b[0;36m0\u001b[0m\u001b[0;34m]\u001b[0m\u001b[0;34m[\u001b[0m\u001b[0;34m'summary_text'\u001b[0m\u001b[0;34m]\u001b[0m\u001b[0;34m)\u001b[0m\u001b[0;34m\u001b[0m\u001b[0;34m\u001b[0m\u001b[0m\n",
            "\u001b[0;31mNameError\u001b[0m: name 'pipeline' is not defined"
          ]
        }
      ],
      "source": [
        "summarizer = pipeline(\"summarization\")\n",
        "input_text = str1\n",
        "summary = summarizer(input_text, max_length=150, min_length=50, length_penalty=2.0, num_beams=4, early_stopping=True)\n",
        "print(summary[0]['summary_text'])"
      ]
    },
    {
      "cell_type": "code",
      "source": [
        "len(summary[0]['summary_text'])"
      ],
      "metadata": {
        "id": "caqAI8h86XKo"
      },
      "execution_count": null,
      "outputs": []
    },
    {
      "cell_type": "code",
      "source": [
        "# Translation"
      ],
      "metadata": {
        "id": "8KSbl2fD1QBA"
      },
      "execution_count": null,
      "outputs": []
    },
    {
      "cell_type": "code",
      "execution_count": null,
      "metadata": {
        "id": "QURSYAi6-oAG"
      },
      "outputs": [],
      "source": [
        "from translate import Translator\n",
        "translator= Translator(to_lang=\"hi\")\n",
        "translation = translator.translate(summary[0]['summary_text'])"
      ]
    },
    {
      "cell_type": "code",
      "execution_count": null,
      "metadata": {
        "id": "TuAHIrd5_Kmz"
      },
      "outputs": [],
      "source": [
        "print(translation)"
      ]
    },
    {
      "cell_type": "code",
      "source": [
        "from youtube_transcript_api import YouTubeTranscriptApi, TranscriptsDisabled\n",
        "from langdetect import detect\n",
        "from translate import Translator\n",
        "from transformers import pipeline\n",
        "VIDEO_URL = 'https://www.youtube.com/watch?v=qWdyhFiyH0Y'\n",
        "# VIDEO_URL = 'https://www.youtube.com/watch?v=1Cl-sT093N8'\n",
        "if '=' in VIDEO_URL:\n",
        "    video_id = VIDEO_URL.split('=')[1]\n",
        "else:\n",
        "    video_id = ''\n",
        "    print(\"Invalid URL\")\n",
        "\n",
        "try:\n",
        "    srt = YouTubeTranscriptApi.get_transcript(video_id, languages=['en', 'hi'])\n",
        "except TranscriptsDisabled:\n",
        "    print(\"Transcripts are disabled for this video.\")\n",
        "except Exception as e:\n",
        "    print(f\"An error occurred: {e}\")\n",
        "\n",
        "str0 = ''\n",
        "for i in srt:\n",
        "    str0 += i['text'] + \" \"\n",
        "\n",
        "l=str0.split(\" \")\n",
        "strl=\"\"\n",
        "for i in l:\n",
        "  if len(i)==0:\n",
        "    l.remove(i)\n",
        "  elif (i[0]=='[' and i[-1]==']'):\n",
        "    l.remove(i)\n",
        "  else:\n",
        "    strl+=i+\" \"\n",
        "\n",
        "\n",
        "language = detect(strl)\n",
        "\n",
        "def translate_text(text, to_lang, from_lang=None, chunk_size=500):\n",
        "    translator = Translator(to_lang=to_lang, from_lang=from_lang)\n",
        "    chunks = [text[i:i + chunk_size] for i in range(0, len(text), chunk_size)]\n",
        "    translated_chunks = [translator.translate(chunk) for chunk in chunks]\n",
        "    translated_text = ''.join(translated_chunks)\n",
        "    return translated_text\n",
        "\n",
        "normal = 'en'\n",
        "if language == 'en':\n",
        "    translated_text = translate_text(strl, to_lang=\"en\", from_lang=normal)\n",
        "else:\n",
        "    translated_text = translate_text(strl, to_lang=\"en\", from_lang=language)\n",
        "\n",
        "# Split the translated text into chunks of 1024 tokens\n",
        "chunks = [translated_text[i:i + 1024] for i in range(0, len(translated_text), 1024)]\n",
        "\n",
        "summarizer = pipeline(\"summarization\")\n",
        "\n",
        "# Summarize each chunk and concatenate the results\n",
        "summary = \"\"\n",
        "for chunk in chunks:\n",
        "    summary += summarizer(chunk, max_length=150, min_length=50, length_penalty=2.0, num_beams=4, early_stopping=True)[0]['summary_text']\n",
        "\n",
        "print(summary)\n"
      ],
      "metadata": {
        "id": "8uxHX8NmQF0i",
        "colab": {
          "base_uri": "https://localhost:8080/",
          "height": 371,
          "referenced_widgets": [
            "2726a89fe91941e3a729a6b1c62d582e",
            "a668842860044a0db59b3fc201709cb5",
            "19c1ecf7773547c291727584b317d4ad",
            "695db584ebdd4193a24fe1f75e6bca14",
            "db9510032aa349fcb8d711af6cd1286c",
            "8d427432072348dfa687e5b3e9b541e0",
            "c6d0c9b4ef464e319fd2fc949966e15e",
            "3af2f88ead8e4415b76f6c38b1d608a5",
            "a749f0142a454b1ea2b9b7965c445635",
            "86bb855035bf4c839dc7d4aa146ff7fe",
            "1f8eaf8ae7d4431f82c7975d03ebde6b",
            "3956cf1c45774bf780047ebee55d829a",
            "86f9fc3782664d138b53189a0de6445f",
            "08767299c268475080b925cde633ecdd",
            "a0e48c1504d9488ebbba43284cbd4fb6",
            "2adda0ca44b944e6ae8a95470abca2c7",
            "88e7549f09f24445a269c0673a612c99",
            "b56f7e2738cb46f4bc8e3a3659e5919b",
            "418089e1f80c417bb0156f60725a8fad",
            "2a0c541133c944a5aba39c0ae71a55ea",
            "adcb4639740a4f1882f3641159505b8a",
            "617a721e72484649a479a4cb6a781f3d",
            "4b962cbbdc5641ca89c80501ec0504dc",
            "aa0c71cb9ae542e79145aff7f65507ee",
            "adc2876836684ee1994d0f8e479fd59f",
            "8705d68555644d69a1548e5ea33ac8a0",
            "13761d87f1634d22a39c1eef723aaeaf",
            "dacdac0ba18346e1931d091b6ce5a9c2",
            "e7872920d7e5484397da0fe250dce3e8",
            "5390fda856ed4b16aecbfff6cbff726f",
            "f8384560ae3e440fbd250c5ad90b7fe5",
            "516af589d6054b2582d82502fe291cb3",
            "0c58c057854642cd9406a2626fec57a9",
            "863eb3630c164a76879cd86cdebb7149",
            "7e4d4f87492441698955b64883438fd8",
            "65d05fccee364ce5b82345df11d9415d",
            "92680439d13440858bd5cd48f2fcb0ad",
            "5616dc8de7754c6080343bf88a58c388",
            "177233b2118e4f4580d663f17a6922c3",
            "83f02c2529a04f24ae2995cc651792de",
            "1627753402d648fd95c0216b8b67a810",
            "8c5752194b904c31bfed3fec23a72b25",
            "80866bb292ad446abe68a5040165129d",
            "63bf0e06442d43ba8b0ad21faec78a14",
            "4ace8937bab8429982a6f1c6fbfe994b",
            "0faa09a3afbd49c8a0d533685c76409f",
            "64e634d358194827a76e1041f6e05992",
            "76cc7481c5824c3bb947ad4a9a8b9fff",
            "56063e17ec0b4ba587c57ffeb60678ec",
            "f315d19ce08b4a19931d1165b0b26101",
            "eefff9b5b81f4d29b3c99df11d4ae5f1",
            "24a7dacd41f3400195cdccfbbe7d025f",
            "59797e401cc749ea8875da005fc63d87",
            "6c894d0f70ff403aae358e401df9e3f2",
            "adbcc7c35b3e47dbb0a13f8f33efde9d"
          ]
        },
        "outputId": "a6cf65ae-99d2-4db6-dd4b-8f82c27bc1fb"
      },
      "execution_count": 48,
      "outputs": [
        {
          "output_type": "stream",
          "name": "stderr",
          "text": [
            "No model was supplied, defaulted to sshleifer/distilbart-cnn-12-6 and revision a4f8f3e (https://huggingface.co/sshleifer/distilbart-cnn-12-6).\n",
            "Using a pipeline without specifying a model name and revision in production is not recommended.\n",
            "/usr/local/lib/python3.10/dist-packages/huggingface_hub/utils/_token.py:88: UserWarning: \n",
            "The secret `HF_TOKEN` does not exist in your Colab secrets.\n",
            "To authenticate with the Hugging Face Hub, create a token in your settings tab (https://huggingface.co/settings/tokens), set it as secret in your Google Colab and restart your session.\n",
            "You will be able to reuse this secret in all of your notebooks.\n",
            "Please note that authentication is recommended but still optional to access public models or datasets.\n",
            "  warnings.warn(\n"
          ]
        },
        {
          "output_type": "display_data",
          "data": {
            "text/plain": [
              "config.json:   0%|          | 0.00/1.80k [00:00<?, ?B/s]"
            ],
            "application/vnd.jupyter.widget-view+json": {
              "version_major": 2,
              "version_minor": 0,
              "model_id": "2726a89fe91941e3a729a6b1c62d582e"
            }
          },
          "metadata": {}
        },
        {
          "output_type": "display_data",
          "data": {
            "text/plain": [
              "pytorch_model.bin:   0%|          | 0.00/1.22G [00:00<?, ?B/s]"
            ],
            "application/vnd.jupyter.widget-view+json": {
              "version_major": 2,
              "version_minor": 0,
              "model_id": "3956cf1c45774bf780047ebee55d829a"
            }
          },
          "metadata": {}
        },
        {
          "output_type": "display_data",
          "data": {
            "text/plain": [
              "tokenizer_config.json:   0%|          | 0.00/26.0 [00:00<?, ?B/s]"
            ],
            "application/vnd.jupyter.widget-view+json": {
              "version_major": 2,
              "version_minor": 0,
              "model_id": "4b962cbbdc5641ca89c80501ec0504dc"
            }
          },
          "metadata": {}
        },
        {
          "output_type": "display_data",
          "data": {
            "text/plain": [
              "vocab.json:   0%|          | 0.00/899k [00:00<?, ?B/s]"
            ],
            "application/vnd.jupyter.widget-view+json": {
              "version_major": 2,
              "version_minor": 0,
              "model_id": "863eb3630c164a76879cd86cdebb7149"
            }
          },
          "metadata": {}
        },
        {
          "output_type": "display_data",
          "data": {
            "text/plain": [
              "merges.txt:   0%|          | 0.00/456k [00:00<?, ?B/s]"
            ],
            "application/vnd.jupyter.widget-view+json": {
              "version_major": 2,
              "version_minor": 0,
              "model_id": "4ace8937bab8429982a6f1c6fbfe994b"
            }
          },
          "metadata": {}
        },
        {
          "output_type": "stream",
          "name": "stderr",
          "text": [
            "Your max_length is set to 150, but your input_length is only 31. Since this is a summarization task, where outputs shorter than the input are typically wanted, you might consider decreasing max_length manually, e.g. summarizer('...', max_length=15)\n"
          ]
        },
        {
          "output_type": "stream",
          "name": "stdout",
          "text": [
            " Youtube has grown to accommodate its global audience by throwing in a few useful features on the desktop site . If you've ever needed a written transcript for a video uploaded to youtube here's how you could find it . Transcripts are only available if closed captions have been enabled or uploaded by the video's owner . Each line can be clicked on to navigate to that specific point in the video . If there are multiple languages available an arrow will show next to the current transcript language at the bottom of the window . Scroll to the top of the given transcript then click and drag your cursor from the beginning of the transcript to the end to highlight it from here . bscribe for all sorts of videos covering youtube and other technology . Don't forget to check out one of these videos we think you might enjoy   Check out some of the videos you've never seen in this kind of of videos we've seen in the past .\n"
          ]
        }
      ]
    },
    {
      "cell_type": "code",
      "source": [],
      "metadata": {
        "id": "LX9_8TJs6KSf"
      },
      "execution_count": null,
      "outputs": []
    }
  ],
  "metadata": {
    "accelerator": "GPU",
    "colab": {
      "provenance": []
    },
    "kernelspec": {
      "display_name": "Python 3",
      "name": "python3"
    },
    "language_info": {
      "name": "python"
    },
    "widgets": {
      "application/vnd.jupyter.widget-state+json": {
        "2726a89fe91941e3a729a6b1c62d582e": {
          "model_module": "@jupyter-widgets/controls",
          "model_name": "HBoxModel",
          "model_module_version": "1.5.0",
          "state": {
            "_dom_classes": [],
            "_model_module": "@jupyter-widgets/controls",
            "_model_module_version": "1.5.0",
            "_model_name": "HBoxModel",
            "_view_count": null,
            "_view_module": "@jupyter-widgets/controls",
            "_view_module_version": "1.5.0",
            "_view_name": "HBoxView",
            "box_style": "",
            "children": [
              "IPY_MODEL_a668842860044a0db59b3fc201709cb5",
              "IPY_MODEL_19c1ecf7773547c291727584b317d4ad",
              "IPY_MODEL_695db584ebdd4193a24fe1f75e6bca14"
            ],
            "layout": "IPY_MODEL_db9510032aa349fcb8d711af6cd1286c"
          }
        },
        "a668842860044a0db59b3fc201709cb5": {
          "model_module": "@jupyter-widgets/controls",
          "model_name": "HTMLModel",
          "model_module_version": "1.5.0",
          "state": {
            "_dom_classes": [],
            "_model_module": "@jupyter-widgets/controls",
            "_model_module_version": "1.5.0",
            "_model_name": "HTMLModel",
            "_view_count": null,
            "_view_module": "@jupyter-widgets/controls",
            "_view_module_version": "1.5.0",
            "_view_name": "HTMLView",
            "description": "",
            "description_tooltip": null,
            "layout": "IPY_MODEL_8d427432072348dfa687e5b3e9b541e0",
            "placeholder": "​",
            "style": "IPY_MODEL_c6d0c9b4ef464e319fd2fc949966e15e",
            "value": "config.json: 100%"
          }
        },
        "19c1ecf7773547c291727584b317d4ad": {
          "model_module": "@jupyter-widgets/controls",
          "model_name": "FloatProgressModel",
          "model_module_version": "1.5.0",
          "state": {
            "_dom_classes": [],
            "_model_module": "@jupyter-widgets/controls",
            "_model_module_version": "1.5.0",
            "_model_name": "FloatProgressModel",
            "_view_count": null,
            "_view_module": "@jupyter-widgets/controls",
            "_view_module_version": "1.5.0",
            "_view_name": "ProgressView",
            "bar_style": "success",
            "description": "",
            "description_tooltip": null,
            "layout": "IPY_MODEL_3af2f88ead8e4415b76f6c38b1d608a5",
            "max": 1802,
            "min": 0,
            "orientation": "horizontal",
            "style": "IPY_MODEL_a749f0142a454b1ea2b9b7965c445635",
            "value": 1802
          }
        },
        "695db584ebdd4193a24fe1f75e6bca14": {
          "model_module": "@jupyter-widgets/controls",
          "model_name": "HTMLModel",
          "model_module_version": "1.5.0",
          "state": {
            "_dom_classes": [],
            "_model_module": "@jupyter-widgets/controls",
            "_model_module_version": "1.5.0",
            "_model_name": "HTMLModel",
            "_view_count": null,
            "_view_module": "@jupyter-widgets/controls",
            "_view_module_version": "1.5.0",
            "_view_name": "HTMLView",
            "description": "",
            "description_tooltip": null,
            "layout": "IPY_MODEL_86bb855035bf4c839dc7d4aa146ff7fe",
            "placeholder": "​",
            "style": "IPY_MODEL_1f8eaf8ae7d4431f82c7975d03ebde6b",
            "value": " 1.80k/1.80k [00:00&lt;00:00, 122kB/s]"
          }
        },
        "db9510032aa349fcb8d711af6cd1286c": {
          "model_module": "@jupyter-widgets/base",
          "model_name": "LayoutModel",
          "model_module_version": "1.2.0",
          "state": {
            "_model_module": "@jupyter-widgets/base",
            "_model_module_version": "1.2.0",
            "_model_name": "LayoutModel",
            "_view_count": null,
            "_view_module": "@jupyter-widgets/base",
            "_view_module_version": "1.2.0",
            "_view_name": "LayoutView",
            "align_content": null,
            "align_items": null,
            "align_self": null,
            "border": null,
            "bottom": null,
            "display": null,
            "flex": null,
            "flex_flow": null,
            "grid_area": null,
            "grid_auto_columns": null,
            "grid_auto_flow": null,
            "grid_auto_rows": null,
            "grid_column": null,
            "grid_gap": null,
            "grid_row": null,
            "grid_template_areas": null,
            "grid_template_columns": null,
            "grid_template_rows": null,
            "height": null,
            "justify_content": null,
            "justify_items": null,
            "left": null,
            "margin": null,
            "max_height": null,
            "max_width": null,
            "min_height": null,
            "min_width": null,
            "object_fit": null,
            "object_position": null,
            "order": null,
            "overflow": null,
            "overflow_x": null,
            "overflow_y": null,
            "padding": null,
            "right": null,
            "top": null,
            "visibility": null,
            "width": null
          }
        },
        "8d427432072348dfa687e5b3e9b541e0": {
          "model_module": "@jupyter-widgets/base",
          "model_name": "LayoutModel",
          "model_module_version": "1.2.0",
          "state": {
            "_model_module": "@jupyter-widgets/base",
            "_model_module_version": "1.2.0",
            "_model_name": "LayoutModel",
            "_view_count": null,
            "_view_module": "@jupyter-widgets/base",
            "_view_module_version": "1.2.0",
            "_view_name": "LayoutView",
            "align_content": null,
            "align_items": null,
            "align_self": null,
            "border": null,
            "bottom": null,
            "display": null,
            "flex": null,
            "flex_flow": null,
            "grid_area": null,
            "grid_auto_columns": null,
            "grid_auto_flow": null,
            "grid_auto_rows": null,
            "grid_column": null,
            "grid_gap": null,
            "grid_row": null,
            "grid_template_areas": null,
            "grid_template_columns": null,
            "grid_template_rows": null,
            "height": null,
            "justify_content": null,
            "justify_items": null,
            "left": null,
            "margin": null,
            "max_height": null,
            "max_width": null,
            "min_height": null,
            "min_width": null,
            "object_fit": null,
            "object_position": null,
            "order": null,
            "overflow": null,
            "overflow_x": null,
            "overflow_y": null,
            "padding": null,
            "right": null,
            "top": null,
            "visibility": null,
            "width": null
          }
        },
        "c6d0c9b4ef464e319fd2fc949966e15e": {
          "model_module": "@jupyter-widgets/controls",
          "model_name": "DescriptionStyleModel",
          "model_module_version": "1.5.0",
          "state": {
            "_model_module": "@jupyter-widgets/controls",
            "_model_module_version": "1.5.0",
            "_model_name": "DescriptionStyleModel",
            "_view_count": null,
            "_view_module": "@jupyter-widgets/base",
            "_view_module_version": "1.2.0",
            "_view_name": "StyleView",
            "description_width": ""
          }
        },
        "3af2f88ead8e4415b76f6c38b1d608a5": {
          "model_module": "@jupyter-widgets/base",
          "model_name": "LayoutModel",
          "model_module_version": "1.2.0",
          "state": {
            "_model_module": "@jupyter-widgets/base",
            "_model_module_version": "1.2.0",
            "_model_name": "LayoutModel",
            "_view_count": null,
            "_view_module": "@jupyter-widgets/base",
            "_view_module_version": "1.2.0",
            "_view_name": "LayoutView",
            "align_content": null,
            "align_items": null,
            "align_self": null,
            "border": null,
            "bottom": null,
            "display": null,
            "flex": null,
            "flex_flow": null,
            "grid_area": null,
            "grid_auto_columns": null,
            "grid_auto_flow": null,
            "grid_auto_rows": null,
            "grid_column": null,
            "grid_gap": null,
            "grid_row": null,
            "grid_template_areas": null,
            "grid_template_columns": null,
            "grid_template_rows": null,
            "height": null,
            "justify_content": null,
            "justify_items": null,
            "left": null,
            "margin": null,
            "max_height": null,
            "max_width": null,
            "min_height": null,
            "min_width": null,
            "object_fit": null,
            "object_position": null,
            "order": null,
            "overflow": null,
            "overflow_x": null,
            "overflow_y": null,
            "padding": null,
            "right": null,
            "top": null,
            "visibility": null,
            "width": null
          }
        },
        "a749f0142a454b1ea2b9b7965c445635": {
          "model_module": "@jupyter-widgets/controls",
          "model_name": "ProgressStyleModel",
          "model_module_version": "1.5.0",
          "state": {
            "_model_module": "@jupyter-widgets/controls",
            "_model_module_version": "1.5.0",
            "_model_name": "ProgressStyleModel",
            "_view_count": null,
            "_view_module": "@jupyter-widgets/base",
            "_view_module_version": "1.2.0",
            "_view_name": "StyleView",
            "bar_color": null,
            "description_width": ""
          }
        },
        "86bb855035bf4c839dc7d4aa146ff7fe": {
          "model_module": "@jupyter-widgets/base",
          "model_name": "LayoutModel",
          "model_module_version": "1.2.0",
          "state": {
            "_model_module": "@jupyter-widgets/base",
            "_model_module_version": "1.2.0",
            "_model_name": "LayoutModel",
            "_view_count": null,
            "_view_module": "@jupyter-widgets/base",
            "_view_module_version": "1.2.0",
            "_view_name": "LayoutView",
            "align_content": null,
            "align_items": null,
            "align_self": null,
            "border": null,
            "bottom": null,
            "display": null,
            "flex": null,
            "flex_flow": null,
            "grid_area": null,
            "grid_auto_columns": null,
            "grid_auto_flow": null,
            "grid_auto_rows": null,
            "grid_column": null,
            "grid_gap": null,
            "grid_row": null,
            "grid_template_areas": null,
            "grid_template_columns": null,
            "grid_template_rows": null,
            "height": null,
            "justify_content": null,
            "justify_items": null,
            "left": null,
            "margin": null,
            "max_height": null,
            "max_width": null,
            "min_height": null,
            "min_width": null,
            "object_fit": null,
            "object_position": null,
            "order": null,
            "overflow": null,
            "overflow_x": null,
            "overflow_y": null,
            "padding": null,
            "right": null,
            "top": null,
            "visibility": null,
            "width": null
          }
        },
        "1f8eaf8ae7d4431f82c7975d03ebde6b": {
          "model_module": "@jupyter-widgets/controls",
          "model_name": "DescriptionStyleModel",
          "model_module_version": "1.5.0",
          "state": {
            "_model_module": "@jupyter-widgets/controls",
            "_model_module_version": "1.5.0",
            "_model_name": "DescriptionStyleModel",
            "_view_count": null,
            "_view_module": "@jupyter-widgets/base",
            "_view_module_version": "1.2.0",
            "_view_name": "StyleView",
            "description_width": ""
          }
        },
        "3956cf1c45774bf780047ebee55d829a": {
          "model_module": "@jupyter-widgets/controls",
          "model_name": "HBoxModel",
          "model_module_version": "1.5.0",
          "state": {
            "_dom_classes": [],
            "_model_module": "@jupyter-widgets/controls",
            "_model_module_version": "1.5.0",
            "_model_name": "HBoxModel",
            "_view_count": null,
            "_view_module": "@jupyter-widgets/controls",
            "_view_module_version": "1.5.0",
            "_view_name": "HBoxView",
            "box_style": "",
            "children": [
              "IPY_MODEL_86f9fc3782664d138b53189a0de6445f",
              "IPY_MODEL_08767299c268475080b925cde633ecdd",
              "IPY_MODEL_a0e48c1504d9488ebbba43284cbd4fb6"
            ],
            "layout": "IPY_MODEL_2adda0ca44b944e6ae8a95470abca2c7"
          }
        },
        "86f9fc3782664d138b53189a0de6445f": {
          "model_module": "@jupyter-widgets/controls",
          "model_name": "HTMLModel",
          "model_module_version": "1.5.0",
          "state": {
            "_dom_classes": [],
            "_model_module": "@jupyter-widgets/controls",
            "_model_module_version": "1.5.0",
            "_model_name": "HTMLModel",
            "_view_count": null,
            "_view_module": "@jupyter-widgets/controls",
            "_view_module_version": "1.5.0",
            "_view_name": "HTMLView",
            "description": "",
            "description_tooltip": null,
            "layout": "IPY_MODEL_88e7549f09f24445a269c0673a612c99",
            "placeholder": "​",
            "style": "IPY_MODEL_b56f7e2738cb46f4bc8e3a3659e5919b",
            "value": "pytorch_model.bin: 100%"
          }
        },
        "08767299c268475080b925cde633ecdd": {
          "model_module": "@jupyter-widgets/controls",
          "model_name": "FloatProgressModel",
          "model_module_version": "1.5.0",
          "state": {
            "_dom_classes": [],
            "_model_module": "@jupyter-widgets/controls",
            "_model_module_version": "1.5.0",
            "_model_name": "FloatProgressModel",
            "_view_count": null,
            "_view_module": "@jupyter-widgets/controls",
            "_view_module_version": "1.5.0",
            "_view_name": "ProgressView",
            "bar_style": "success",
            "description": "",
            "description_tooltip": null,
            "layout": "IPY_MODEL_418089e1f80c417bb0156f60725a8fad",
            "max": 1222317369,
            "min": 0,
            "orientation": "horizontal",
            "style": "IPY_MODEL_2a0c541133c944a5aba39c0ae71a55ea",
            "value": 1222317369
          }
        },
        "a0e48c1504d9488ebbba43284cbd4fb6": {
          "model_module": "@jupyter-widgets/controls",
          "model_name": "HTMLModel",
          "model_module_version": "1.5.0",
          "state": {
            "_dom_classes": [],
            "_model_module": "@jupyter-widgets/controls",
            "_model_module_version": "1.5.0",
            "_model_name": "HTMLModel",
            "_view_count": null,
            "_view_module": "@jupyter-widgets/controls",
            "_view_module_version": "1.5.0",
            "_view_name": "HTMLView",
            "description": "",
            "description_tooltip": null,
            "layout": "IPY_MODEL_adcb4639740a4f1882f3641159505b8a",
            "placeholder": "​",
            "style": "IPY_MODEL_617a721e72484649a479a4cb6a781f3d",
            "value": " 1.22G/1.22G [00:12&lt;00:00, 206MB/s]"
          }
        },
        "2adda0ca44b944e6ae8a95470abca2c7": {
          "model_module": "@jupyter-widgets/base",
          "model_name": "LayoutModel",
          "model_module_version": "1.2.0",
          "state": {
            "_model_module": "@jupyter-widgets/base",
            "_model_module_version": "1.2.0",
            "_model_name": "LayoutModel",
            "_view_count": null,
            "_view_module": "@jupyter-widgets/base",
            "_view_module_version": "1.2.0",
            "_view_name": "LayoutView",
            "align_content": null,
            "align_items": null,
            "align_self": null,
            "border": null,
            "bottom": null,
            "display": null,
            "flex": null,
            "flex_flow": null,
            "grid_area": null,
            "grid_auto_columns": null,
            "grid_auto_flow": null,
            "grid_auto_rows": null,
            "grid_column": null,
            "grid_gap": null,
            "grid_row": null,
            "grid_template_areas": null,
            "grid_template_columns": null,
            "grid_template_rows": null,
            "height": null,
            "justify_content": null,
            "justify_items": null,
            "left": null,
            "margin": null,
            "max_height": null,
            "max_width": null,
            "min_height": null,
            "min_width": null,
            "object_fit": null,
            "object_position": null,
            "order": null,
            "overflow": null,
            "overflow_x": null,
            "overflow_y": null,
            "padding": null,
            "right": null,
            "top": null,
            "visibility": null,
            "width": null
          }
        },
        "88e7549f09f24445a269c0673a612c99": {
          "model_module": "@jupyter-widgets/base",
          "model_name": "LayoutModel",
          "model_module_version": "1.2.0",
          "state": {
            "_model_module": "@jupyter-widgets/base",
            "_model_module_version": "1.2.0",
            "_model_name": "LayoutModel",
            "_view_count": null,
            "_view_module": "@jupyter-widgets/base",
            "_view_module_version": "1.2.0",
            "_view_name": "LayoutView",
            "align_content": null,
            "align_items": null,
            "align_self": null,
            "border": null,
            "bottom": null,
            "display": null,
            "flex": null,
            "flex_flow": null,
            "grid_area": null,
            "grid_auto_columns": null,
            "grid_auto_flow": null,
            "grid_auto_rows": null,
            "grid_column": null,
            "grid_gap": null,
            "grid_row": null,
            "grid_template_areas": null,
            "grid_template_columns": null,
            "grid_template_rows": null,
            "height": null,
            "justify_content": null,
            "justify_items": null,
            "left": null,
            "margin": null,
            "max_height": null,
            "max_width": null,
            "min_height": null,
            "min_width": null,
            "object_fit": null,
            "object_position": null,
            "order": null,
            "overflow": null,
            "overflow_x": null,
            "overflow_y": null,
            "padding": null,
            "right": null,
            "top": null,
            "visibility": null,
            "width": null
          }
        },
        "b56f7e2738cb46f4bc8e3a3659e5919b": {
          "model_module": "@jupyter-widgets/controls",
          "model_name": "DescriptionStyleModel",
          "model_module_version": "1.5.0",
          "state": {
            "_model_module": "@jupyter-widgets/controls",
            "_model_module_version": "1.5.0",
            "_model_name": "DescriptionStyleModel",
            "_view_count": null,
            "_view_module": "@jupyter-widgets/base",
            "_view_module_version": "1.2.0",
            "_view_name": "StyleView",
            "description_width": ""
          }
        },
        "418089e1f80c417bb0156f60725a8fad": {
          "model_module": "@jupyter-widgets/base",
          "model_name": "LayoutModel",
          "model_module_version": "1.2.0",
          "state": {
            "_model_module": "@jupyter-widgets/base",
            "_model_module_version": "1.2.0",
            "_model_name": "LayoutModel",
            "_view_count": null,
            "_view_module": "@jupyter-widgets/base",
            "_view_module_version": "1.2.0",
            "_view_name": "LayoutView",
            "align_content": null,
            "align_items": null,
            "align_self": null,
            "border": null,
            "bottom": null,
            "display": null,
            "flex": null,
            "flex_flow": null,
            "grid_area": null,
            "grid_auto_columns": null,
            "grid_auto_flow": null,
            "grid_auto_rows": null,
            "grid_column": null,
            "grid_gap": null,
            "grid_row": null,
            "grid_template_areas": null,
            "grid_template_columns": null,
            "grid_template_rows": null,
            "height": null,
            "justify_content": null,
            "justify_items": null,
            "left": null,
            "margin": null,
            "max_height": null,
            "max_width": null,
            "min_height": null,
            "min_width": null,
            "object_fit": null,
            "object_position": null,
            "order": null,
            "overflow": null,
            "overflow_x": null,
            "overflow_y": null,
            "padding": null,
            "right": null,
            "top": null,
            "visibility": null,
            "width": null
          }
        },
        "2a0c541133c944a5aba39c0ae71a55ea": {
          "model_module": "@jupyter-widgets/controls",
          "model_name": "ProgressStyleModel",
          "model_module_version": "1.5.0",
          "state": {
            "_model_module": "@jupyter-widgets/controls",
            "_model_module_version": "1.5.0",
            "_model_name": "ProgressStyleModel",
            "_view_count": null,
            "_view_module": "@jupyter-widgets/base",
            "_view_module_version": "1.2.0",
            "_view_name": "StyleView",
            "bar_color": null,
            "description_width": ""
          }
        },
        "adcb4639740a4f1882f3641159505b8a": {
          "model_module": "@jupyter-widgets/base",
          "model_name": "LayoutModel",
          "model_module_version": "1.2.0",
          "state": {
            "_model_module": "@jupyter-widgets/base",
            "_model_module_version": "1.2.0",
            "_model_name": "LayoutModel",
            "_view_count": null,
            "_view_module": "@jupyter-widgets/base",
            "_view_module_version": "1.2.0",
            "_view_name": "LayoutView",
            "align_content": null,
            "align_items": null,
            "align_self": null,
            "border": null,
            "bottom": null,
            "display": null,
            "flex": null,
            "flex_flow": null,
            "grid_area": null,
            "grid_auto_columns": null,
            "grid_auto_flow": null,
            "grid_auto_rows": null,
            "grid_column": null,
            "grid_gap": null,
            "grid_row": null,
            "grid_template_areas": null,
            "grid_template_columns": null,
            "grid_template_rows": null,
            "height": null,
            "justify_content": null,
            "justify_items": null,
            "left": null,
            "margin": null,
            "max_height": null,
            "max_width": null,
            "min_height": null,
            "min_width": null,
            "object_fit": null,
            "object_position": null,
            "order": null,
            "overflow": null,
            "overflow_x": null,
            "overflow_y": null,
            "padding": null,
            "right": null,
            "top": null,
            "visibility": null,
            "width": null
          }
        },
        "617a721e72484649a479a4cb6a781f3d": {
          "model_module": "@jupyter-widgets/controls",
          "model_name": "DescriptionStyleModel",
          "model_module_version": "1.5.0",
          "state": {
            "_model_module": "@jupyter-widgets/controls",
            "_model_module_version": "1.5.0",
            "_model_name": "DescriptionStyleModel",
            "_view_count": null,
            "_view_module": "@jupyter-widgets/base",
            "_view_module_version": "1.2.0",
            "_view_name": "StyleView",
            "description_width": ""
          }
        },
        "4b962cbbdc5641ca89c80501ec0504dc": {
          "model_module": "@jupyter-widgets/controls",
          "model_name": "HBoxModel",
          "model_module_version": "1.5.0",
          "state": {
            "_dom_classes": [],
            "_model_module": "@jupyter-widgets/controls",
            "_model_module_version": "1.5.0",
            "_model_name": "HBoxModel",
            "_view_count": null,
            "_view_module": "@jupyter-widgets/controls",
            "_view_module_version": "1.5.0",
            "_view_name": "HBoxView",
            "box_style": "",
            "children": [
              "IPY_MODEL_aa0c71cb9ae542e79145aff7f65507ee",
              "IPY_MODEL_adc2876836684ee1994d0f8e479fd59f",
              "IPY_MODEL_8705d68555644d69a1548e5ea33ac8a0"
            ],
            "layout": "IPY_MODEL_13761d87f1634d22a39c1eef723aaeaf"
          }
        },
        "aa0c71cb9ae542e79145aff7f65507ee": {
          "model_module": "@jupyter-widgets/controls",
          "model_name": "HTMLModel",
          "model_module_version": "1.5.0",
          "state": {
            "_dom_classes": [],
            "_model_module": "@jupyter-widgets/controls",
            "_model_module_version": "1.5.0",
            "_model_name": "HTMLModel",
            "_view_count": null,
            "_view_module": "@jupyter-widgets/controls",
            "_view_module_version": "1.5.0",
            "_view_name": "HTMLView",
            "description": "",
            "description_tooltip": null,
            "layout": "IPY_MODEL_dacdac0ba18346e1931d091b6ce5a9c2",
            "placeholder": "​",
            "style": "IPY_MODEL_e7872920d7e5484397da0fe250dce3e8",
            "value": "tokenizer_config.json: 100%"
          }
        },
        "adc2876836684ee1994d0f8e479fd59f": {
          "model_module": "@jupyter-widgets/controls",
          "model_name": "FloatProgressModel",
          "model_module_version": "1.5.0",
          "state": {
            "_dom_classes": [],
            "_model_module": "@jupyter-widgets/controls",
            "_model_module_version": "1.5.0",
            "_model_name": "FloatProgressModel",
            "_view_count": null,
            "_view_module": "@jupyter-widgets/controls",
            "_view_module_version": "1.5.0",
            "_view_name": "ProgressView",
            "bar_style": "success",
            "description": "",
            "description_tooltip": null,
            "layout": "IPY_MODEL_5390fda856ed4b16aecbfff6cbff726f",
            "max": 26,
            "min": 0,
            "orientation": "horizontal",
            "style": "IPY_MODEL_f8384560ae3e440fbd250c5ad90b7fe5",
            "value": 26
          }
        },
        "8705d68555644d69a1548e5ea33ac8a0": {
          "model_module": "@jupyter-widgets/controls",
          "model_name": "HTMLModel",
          "model_module_version": "1.5.0",
          "state": {
            "_dom_classes": [],
            "_model_module": "@jupyter-widgets/controls",
            "_model_module_version": "1.5.0",
            "_model_name": "HTMLModel",
            "_view_count": null,
            "_view_module": "@jupyter-widgets/controls",
            "_view_module_version": "1.5.0",
            "_view_name": "HTMLView",
            "description": "",
            "description_tooltip": null,
            "layout": "IPY_MODEL_516af589d6054b2582d82502fe291cb3",
            "placeholder": "​",
            "style": "IPY_MODEL_0c58c057854642cd9406a2626fec57a9",
            "value": " 26.0/26.0 [00:00&lt;00:00, 1.37kB/s]"
          }
        },
        "13761d87f1634d22a39c1eef723aaeaf": {
          "model_module": "@jupyter-widgets/base",
          "model_name": "LayoutModel",
          "model_module_version": "1.2.0",
          "state": {
            "_model_module": "@jupyter-widgets/base",
            "_model_module_version": "1.2.0",
            "_model_name": "LayoutModel",
            "_view_count": null,
            "_view_module": "@jupyter-widgets/base",
            "_view_module_version": "1.2.0",
            "_view_name": "LayoutView",
            "align_content": null,
            "align_items": null,
            "align_self": null,
            "border": null,
            "bottom": null,
            "display": null,
            "flex": null,
            "flex_flow": null,
            "grid_area": null,
            "grid_auto_columns": null,
            "grid_auto_flow": null,
            "grid_auto_rows": null,
            "grid_column": null,
            "grid_gap": null,
            "grid_row": null,
            "grid_template_areas": null,
            "grid_template_columns": null,
            "grid_template_rows": null,
            "height": null,
            "justify_content": null,
            "justify_items": null,
            "left": null,
            "margin": null,
            "max_height": null,
            "max_width": null,
            "min_height": null,
            "min_width": null,
            "object_fit": null,
            "object_position": null,
            "order": null,
            "overflow": null,
            "overflow_x": null,
            "overflow_y": null,
            "padding": null,
            "right": null,
            "top": null,
            "visibility": null,
            "width": null
          }
        },
        "dacdac0ba18346e1931d091b6ce5a9c2": {
          "model_module": "@jupyter-widgets/base",
          "model_name": "LayoutModel",
          "model_module_version": "1.2.0",
          "state": {
            "_model_module": "@jupyter-widgets/base",
            "_model_module_version": "1.2.0",
            "_model_name": "LayoutModel",
            "_view_count": null,
            "_view_module": "@jupyter-widgets/base",
            "_view_module_version": "1.2.0",
            "_view_name": "LayoutView",
            "align_content": null,
            "align_items": null,
            "align_self": null,
            "border": null,
            "bottom": null,
            "display": null,
            "flex": null,
            "flex_flow": null,
            "grid_area": null,
            "grid_auto_columns": null,
            "grid_auto_flow": null,
            "grid_auto_rows": null,
            "grid_column": null,
            "grid_gap": null,
            "grid_row": null,
            "grid_template_areas": null,
            "grid_template_columns": null,
            "grid_template_rows": null,
            "height": null,
            "justify_content": null,
            "justify_items": null,
            "left": null,
            "margin": null,
            "max_height": null,
            "max_width": null,
            "min_height": null,
            "min_width": null,
            "object_fit": null,
            "object_position": null,
            "order": null,
            "overflow": null,
            "overflow_x": null,
            "overflow_y": null,
            "padding": null,
            "right": null,
            "top": null,
            "visibility": null,
            "width": null
          }
        },
        "e7872920d7e5484397da0fe250dce3e8": {
          "model_module": "@jupyter-widgets/controls",
          "model_name": "DescriptionStyleModel",
          "model_module_version": "1.5.0",
          "state": {
            "_model_module": "@jupyter-widgets/controls",
            "_model_module_version": "1.5.0",
            "_model_name": "DescriptionStyleModel",
            "_view_count": null,
            "_view_module": "@jupyter-widgets/base",
            "_view_module_version": "1.2.0",
            "_view_name": "StyleView",
            "description_width": ""
          }
        },
        "5390fda856ed4b16aecbfff6cbff726f": {
          "model_module": "@jupyter-widgets/base",
          "model_name": "LayoutModel",
          "model_module_version": "1.2.0",
          "state": {
            "_model_module": "@jupyter-widgets/base",
            "_model_module_version": "1.2.0",
            "_model_name": "LayoutModel",
            "_view_count": null,
            "_view_module": "@jupyter-widgets/base",
            "_view_module_version": "1.2.0",
            "_view_name": "LayoutView",
            "align_content": null,
            "align_items": null,
            "align_self": null,
            "border": null,
            "bottom": null,
            "display": null,
            "flex": null,
            "flex_flow": null,
            "grid_area": null,
            "grid_auto_columns": null,
            "grid_auto_flow": null,
            "grid_auto_rows": null,
            "grid_column": null,
            "grid_gap": null,
            "grid_row": null,
            "grid_template_areas": null,
            "grid_template_columns": null,
            "grid_template_rows": null,
            "height": null,
            "justify_content": null,
            "justify_items": null,
            "left": null,
            "margin": null,
            "max_height": null,
            "max_width": null,
            "min_height": null,
            "min_width": null,
            "object_fit": null,
            "object_position": null,
            "order": null,
            "overflow": null,
            "overflow_x": null,
            "overflow_y": null,
            "padding": null,
            "right": null,
            "top": null,
            "visibility": null,
            "width": null
          }
        },
        "f8384560ae3e440fbd250c5ad90b7fe5": {
          "model_module": "@jupyter-widgets/controls",
          "model_name": "ProgressStyleModel",
          "model_module_version": "1.5.0",
          "state": {
            "_model_module": "@jupyter-widgets/controls",
            "_model_module_version": "1.5.0",
            "_model_name": "ProgressStyleModel",
            "_view_count": null,
            "_view_module": "@jupyter-widgets/base",
            "_view_module_version": "1.2.0",
            "_view_name": "StyleView",
            "bar_color": null,
            "description_width": ""
          }
        },
        "516af589d6054b2582d82502fe291cb3": {
          "model_module": "@jupyter-widgets/base",
          "model_name": "LayoutModel",
          "model_module_version": "1.2.0",
          "state": {
            "_model_module": "@jupyter-widgets/base",
            "_model_module_version": "1.2.0",
            "_model_name": "LayoutModel",
            "_view_count": null,
            "_view_module": "@jupyter-widgets/base",
            "_view_module_version": "1.2.0",
            "_view_name": "LayoutView",
            "align_content": null,
            "align_items": null,
            "align_self": null,
            "border": null,
            "bottom": null,
            "display": null,
            "flex": null,
            "flex_flow": null,
            "grid_area": null,
            "grid_auto_columns": null,
            "grid_auto_flow": null,
            "grid_auto_rows": null,
            "grid_column": null,
            "grid_gap": null,
            "grid_row": null,
            "grid_template_areas": null,
            "grid_template_columns": null,
            "grid_template_rows": null,
            "height": null,
            "justify_content": null,
            "justify_items": null,
            "left": null,
            "margin": null,
            "max_height": null,
            "max_width": null,
            "min_height": null,
            "min_width": null,
            "object_fit": null,
            "object_position": null,
            "order": null,
            "overflow": null,
            "overflow_x": null,
            "overflow_y": null,
            "padding": null,
            "right": null,
            "top": null,
            "visibility": null,
            "width": null
          }
        },
        "0c58c057854642cd9406a2626fec57a9": {
          "model_module": "@jupyter-widgets/controls",
          "model_name": "DescriptionStyleModel",
          "model_module_version": "1.5.0",
          "state": {
            "_model_module": "@jupyter-widgets/controls",
            "_model_module_version": "1.5.0",
            "_model_name": "DescriptionStyleModel",
            "_view_count": null,
            "_view_module": "@jupyter-widgets/base",
            "_view_module_version": "1.2.0",
            "_view_name": "StyleView",
            "description_width": ""
          }
        },
        "863eb3630c164a76879cd86cdebb7149": {
          "model_module": "@jupyter-widgets/controls",
          "model_name": "HBoxModel",
          "model_module_version": "1.5.0",
          "state": {
            "_dom_classes": [],
            "_model_module": "@jupyter-widgets/controls",
            "_model_module_version": "1.5.0",
            "_model_name": "HBoxModel",
            "_view_count": null,
            "_view_module": "@jupyter-widgets/controls",
            "_view_module_version": "1.5.0",
            "_view_name": "HBoxView",
            "box_style": "",
            "children": [
              "IPY_MODEL_7e4d4f87492441698955b64883438fd8",
              "IPY_MODEL_65d05fccee364ce5b82345df11d9415d",
              "IPY_MODEL_92680439d13440858bd5cd48f2fcb0ad"
            ],
            "layout": "IPY_MODEL_5616dc8de7754c6080343bf88a58c388"
          }
        },
        "7e4d4f87492441698955b64883438fd8": {
          "model_module": "@jupyter-widgets/controls",
          "model_name": "HTMLModel",
          "model_module_version": "1.5.0",
          "state": {
            "_dom_classes": [],
            "_model_module": "@jupyter-widgets/controls",
            "_model_module_version": "1.5.0",
            "_model_name": "HTMLModel",
            "_view_count": null,
            "_view_module": "@jupyter-widgets/controls",
            "_view_module_version": "1.5.0",
            "_view_name": "HTMLView",
            "description": "",
            "description_tooltip": null,
            "layout": "IPY_MODEL_177233b2118e4f4580d663f17a6922c3",
            "placeholder": "​",
            "style": "IPY_MODEL_83f02c2529a04f24ae2995cc651792de",
            "value": "vocab.json: 100%"
          }
        },
        "65d05fccee364ce5b82345df11d9415d": {
          "model_module": "@jupyter-widgets/controls",
          "model_name": "FloatProgressModel",
          "model_module_version": "1.5.0",
          "state": {
            "_dom_classes": [],
            "_model_module": "@jupyter-widgets/controls",
            "_model_module_version": "1.5.0",
            "_model_name": "FloatProgressModel",
            "_view_count": null,
            "_view_module": "@jupyter-widgets/controls",
            "_view_module_version": "1.5.0",
            "_view_name": "ProgressView",
            "bar_style": "success",
            "description": "",
            "description_tooltip": null,
            "layout": "IPY_MODEL_1627753402d648fd95c0216b8b67a810",
            "max": 898822,
            "min": 0,
            "orientation": "horizontal",
            "style": "IPY_MODEL_8c5752194b904c31bfed3fec23a72b25",
            "value": 898822
          }
        },
        "92680439d13440858bd5cd48f2fcb0ad": {
          "model_module": "@jupyter-widgets/controls",
          "model_name": "HTMLModel",
          "model_module_version": "1.5.0",
          "state": {
            "_dom_classes": [],
            "_model_module": "@jupyter-widgets/controls",
            "_model_module_version": "1.5.0",
            "_model_name": "HTMLModel",
            "_view_count": null,
            "_view_module": "@jupyter-widgets/controls",
            "_view_module_version": "1.5.0",
            "_view_name": "HTMLView",
            "description": "",
            "description_tooltip": null,
            "layout": "IPY_MODEL_80866bb292ad446abe68a5040165129d",
            "placeholder": "​",
            "style": "IPY_MODEL_63bf0e06442d43ba8b0ad21faec78a14",
            "value": " 899k/899k [00:00&lt;00:00, 5.46MB/s]"
          }
        },
        "5616dc8de7754c6080343bf88a58c388": {
          "model_module": "@jupyter-widgets/base",
          "model_name": "LayoutModel",
          "model_module_version": "1.2.0",
          "state": {
            "_model_module": "@jupyter-widgets/base",
            "_model_module_version": "1.2.0",
            "_model_name": "LayoutModel",
            "_view_count": null,
            "_view_module": "@jupyter-widgets/base",
            "_view_module_version": "1.2.0",
            "_view_name": "LayoutView",
            "align_content": null,
            "align_items": null,
            "align_self": null,
            "border": null,
            "bottom": null,
            "display": null,
            "flex": null,
            "flex_flow": null,
            "grid_area": null,
            "grid_auto_columns": null,
            "grid_auto_flow": null,
            "grid_auto_rows": null,
            "grid_column": null,
            "grid_gap": null,
            "grid_row": null,
            "grid_template_areas": null,
            "grid_template_columns": null,
            "grid_template_rows": null,
            "height": null,
            "justify_content": null,
            "justify_items": null,
            "left": null,
            "margin": null,
            "max_height": null,
            "max_width": null,
            "min_height": null,
            "min_width": null,
            "object_fit": null,
            "object_position": null,
            "order": null,
            "overflow": null,
            "overflow_x": null,
            "overflow_y": null,
            "padding": null,
            "right": null,
            "top": null,
            "visibility": null,
            "width": null
          }
        },
        "177233b2118e4f4580d663f17a6922c3": {
          "model_module": "@jupyter-widgets/base",
          "model_name": "LayoutModel",
          "model_module_version": "1.2.0",
          "state": {
            "_model_module": "@jupyter-widgets/base",
            "_model_module_version": "1.2.0",
            "_model_name": "LayoutModel",
            "_view_count": null,
            "_view_module": "@jupyter-widgets/base",
            "_view_module_version": "1.2.0",
            "_view_name": "LayoutView",
            "align_content": null,
            "align_items": null,
            "align_self": null,
            "border": null,
            "bottom": null,
            "display": null,
            "flex": null,
            "flex_flow": null,
            "grid_area": null,
            "grid_auto_columns": null,
            "grid_auto_flow": null,
            "grid_auto_rows": null,
            "grid_column": null,
            "grid_gap": null,
            "grid_row": null,
            "grid_template_areas": null,
            "grid_template_columns": null,
            "grid_template_rows": null,
            "height": null,
            "justify_content": null,
            "justify_items": null,
            "left": null,
            "margin": null,
            "max_height": null,
            "max_width": null,
            "min_height": null,
            "min_width": null,
            "object_fit": null,
            "object_position": null,
            "order": null,
            "overflow": null,
            "overflow_x": null,
            "overflow_y": null,
            "padding": null,
            "right": null,
            "top": null,
            "visibility": null,
            "width": null
          }
        },
        "83f02c2529a04f24ae2995cc651792de": {
          "model_module": "@jupyter-widgets/controls",
          "model_name": "DescriptionStyleModel",
          "model_module_version": "1.5.0",
          "state": {
            "_model_module": "@jupyter-widgets/controls",
            "_model_module_version": "1.5.0",
            "_model_name": "DescriptionStyleModel",
            "_view_count": null,
            "_view_module": "@jupyter-widgets/base",
            "_view_module_version": "1.2.0",
            "_view_name": "StyleView",
            "description_width": ""
          }
        },
        "1627753402d648fd95c0216b8b67a810": {
          "model_module": "@jupyter-widgets/base",
          "model_name": "LayoutModel",
          "model_module_version": "1.2.0",
          "state": {
            "_model_module": "@jupyter-widgets/base",
            "_model_module_version": "1.2.0",
            "_model_name": "LayoutModel",
            "_view_count": null,
            "_view_module": "@jupyter-widgets/base",
            "_view_module_version": "1.2.0",
            "_view_name": "LayoutView",
            "align_content": null,
            "align_items": null,
            "align_self": null,
            "border": null,
            "bottom": null,
            "display": null,
            "flex": null,
            "flex_flow": null,
            "grid_area": null,
            "grid_auto_columns": null,
            "grid_auto_flow": null,
            "grid_auto_rows": null,
            "grid_column": null,
            "grid_gap": null,
            "grid_row": null,
            "grid_template_areas": null,
            "grid_template_columns": null,
            "grid_template_rows": null,
            "height": null,
            "justify_content": null,
            "justify_items": null,
            "left": null,
            "margin": null,
            "max_height": null,
            "max_width": null,
            "min_height": null,
            "min_width": null,
            "object_fit": null,
            "object_position": null,
            "order": null,
            "overflow": null,
            "overflow_x": null,
            "overflow_y": null,
            "padding": null,
            "right": null,
            "top": null,
            "visibility": null,
            "width": null
          }
        },
        "8c5752194b904c31bfed3fec23a72b25": {
          "model_module": "@jupyter-widgets/controls",
          "model_name": "ProgressStyleModel",
          "model_module_version": "1.5.0",
          "state": {
            "_model_module": "@jupyter-widgets/controls",
            "_model_module_version": "1.5.0",
            "_model_name": "ProgressStyleModel",
            "_view_count": null,
            "_view_module": "@jupyter-widgets/base",
            "_view_module_version": "1.2.0",
            "_view_name": "StyleView",
            "bar_color": null,
            "description_width": ""
          }
        },
        "80866bb292ad446abe68a5040165129d": {
          "model_module": "@jupyter-widgets/base",
          "model_name": "LayoutModel",
          "model_module_version": "1.2.0",
          "state": {
            "_model_module": "@jupyter-widgets/base",
            "_model_module_version": "1.2.0",
            "_model_name": "LayoutModel",
            "_view_count": null,
            "_view_module": "@jupyter-widgets/base",
            "_view_module_version": "1.2.0",
            "_view_name": "LayoutView",
            "align_content": null,
            "align_items": null,
            "align_self": null,
            "border": null,
            "bottom": null,
            "display": null,
            "flex": null,
            "flex_flow": null,
            "grid_area": null,
            "grid_auto_columns": null,
            "grid_auto_flow": null,
            "grid_auto_rows": null,
            "grid_column": null,
            "grid_gap": null,
            "grid_row": null,
            "grid_template_areas": null,
            "grid_template_columns": null,
            "grid_template_rows": null,
            "height": null,
            "justify_content": null,
            "justify_items": null,
            "left": null,
            "margin": null,
            "max_height": null,
            "max_width": null,
            "min_height": null,
            "min_width": null,
            "object_fit": null,
            "object_position": null,
            "order": null,
            "overflow": null,
            "overflow_x": null,
            "overflow_y": null,
            "padding": null,
            "right": null,
            "top": null,
            "visibility": null,
            "width": null
          }
        },
        "63bf0e06442d43ba8b0ad21faec78a14": {
          "model_module": "@jupyter-widgets/controls",
          "model_name": "DescriptionStyleModel",
          "model_module_version": "1.5.0",
          "state": {
            "_model_module": "@jupyter-widgets/controls",
            "_model_module_version": "1.5.0",
            "_model_name": "DescriptionStyleModel",
            "_view_count": null,
            "_view_module": "@jupyter-widgets/base",
            "_view_module_version": "1.2.0",
            "_view_name": "StyleView",
            "description_width": ""
          }
        },
        "4ace8937bab8429982a6f1c6fbfe994b": {
          "model_module": "@jupyter-widgets/controls",
          "model_name": "HBoxModel",
          "model_module_version": "1.5.0",
          "state": {
            "_dom_classes": [],
            "_model_module": "@jupyter-widgets/controls",
            "_model_module_version": "1.5.0",
            "_model_name": "HBoxModel",
            "_view_count": null,
            "_view_module": "@jupyter-widgets/controls",
            "_view_module_version": "1.5.0",
            "_view_name": "HBoxView",
            "box_style": "",
            "children": [
              "IPY_MODEL_0faa09a3afbd49c8a0d533685c76409f",
              "IPY_MODEL_64e634d358194827a76e1041f6e05992",
              "IPY_MODEL_76cc7481c5824c3bb947ad4a9a8b9fff"
            ],
            "layout": "IPY_MODEL_56063e17ec0b4ba587c57ffeb60678ec"
          }
        },
        "0faa09a3afbd49c8a0d533685c76409f": {
          "model_module": "@jupyter-widgets/controls",
          "model_name": "HTMLModel",
          "model_module_version": "1.5.0",
          "state": {
            "_dom_classes": [],
            "_model_module": "@jupyter-widgets/controls",
            "_model_module_version": "1.5.0",
            "_model_name": "HTMLModel",
            "_view_count": null,
            "_view_module": "@jupyter-widgets/controls",
            "_view_module_version": "1.5.0",
            "_view_name": "HTMLView",
            "description": "",
            "description_tooltip": null,
            "layout": "IPY_MODEL_f315d19ce08b4a19931d1165b0b26101",
            "placeholder": "​",
            "style": "IPY_MODEL_eefff9b5b81f4d29b3c99df11d4ae5f1",
            "value": "merges.txt: 100%"
          }
        },
        "64e634d358194827a76e1041f6e05992": {
          "model_module": "@jupyter-widgets/controls",
          "model_name": "FloatProgressModel",
          "model_module_version": "1.5.0",
          "state": {
            "_dom_classes": [],
            "_model_module": "@jupyter-widgets/controls",
            "_model_module_version": "1.5.0",
            "_model_name": "FloatProgressModel",
            "_view_count": null,
            "_view_module": "@jupyter-widgets/controls",
            "_view_module_version": "1.5.0",
            "_view_name": "ProgressView",
            "bar_style": "success",
            "description": "",
            "description_tooltip": null,
            "layout": "IPY_MODEL_24a7dacd41f3400195cdccfbbe7d025f",
            "max": 456318,
            "min": 0,
            "orientation": "horizontal",
            "style": "IPY_MODEL_59797e401cc749ea8875da005fc63d87",
            "value": 456318
          }
        },
        "76cc7481c5824c3bb947ad4a9a8b9fff": {
          "model_module": "@jupyter-widgets/controls",
          "model_name": "HTMLModel",
          "model_module_version": "1.5.0",
          "state": {
            "_dom_classes": [],
            "_model_module": "@jupyter-widgets/controls",
            "_model_module_version": "1.5.0",
            "_model_name": "HTMLModel",
            "_view_count": null,
            "_view_module": "@jupyter-widgets/controls",
            "_view_module_version": "1.5.0",
            "_view_name": "HTMLView",
            "description": "",
            "description_tooltip": null,
            "layout": "IPY_MODEL_6c894d0f70ff403aae358e401df9e3f2",
            "placeholder": "​",
            "style": "IPY_MODEL_adbcc7c35b3e47dbb0a13f8f33efde9d",
            "value": " 456k/456k [00:00&lt;00:00, 4.06MB/s]"
          }
        },
        "56063e17ec0b4ba587c57ffeb60678ec": {
          "model_module": "@jupyter-widgets/base",
          "model_name": "LayoutModel",
          "model_module_version": "1.2.0",
          "state": {
            "_model_module": "@jupyter-widgets/base",
            "_model_module_version": "1.2.0",
            "_model_name": "LayoutModel",
            "_view_count": null,
            "_view_module": "@jupyter-widgets/base",
            "_view_module_version": "1.2.0",
            "_view_name": "LayoutView",
            "align_content": null,
            "align_items": null,
            "align_self": null,
            "border": null,
            "bottom": null,
            "display": null,
            "flex": null,
            "flex_flow": null,
            "grid_area": null,
            "grid_auto_columns": null,
            "grid_auto_flow": null,
            "grid_auto_rows": null,
            "grid_column": null,
            "grid_gap": null,
            "grid_row": null,
            "grid_template_areas": null,
            "grid_template_columns": null,
            "grid_template_rows": null,
            "height": null,
            "justify_content": null,
            "justify_items": null,
            "left": null,
            "margin": null,
            "max_height": null,
            "max_width": null,
            "min_height": null,
            "min_width": null,
            "object_fit": null,
            "object_position": null,
            "order": null,
            "overflow": null,
            "overflow_x": null,
            "overflow_y": null,
            "padding": null,
            "right": null,
            "top": null,
            "visibility": null,
            "width": null
          }
        },
        "f315d19ce08b4a19931d1165b0b26101": {
          "model_module": "@jupyter-widgets/base",
          "model_name": "LayoutModel",
          "model_module_version": "1.2.0",
          "state": {
            "_model_module": "@jupyter-widgets/base",
            "_model_module_version": "1.2.0",
            "_model_name": "LayoutModel",
            "_view_count": null,
            "_view_module": "@jupyter-widgets/base",
            "_view_module_version": "1.2.0",
            "_view_name": "LayoutView",
            "align_content": null,
            "align_items": null,
            "align_self": null,
            "border": null,
            "bottom": null,
            "display": null,
            "flex": null,
            "flex_flow": null,
            "grid_area": null,
            "grid_auto_columns": null,
            "grid_auto_flow": null,
            "grid_auto_rows": null,
            "grid_column": null,
            "grid_gap": null,
            "grid_row": null,
            "grid_template_areas": null,
            "grid_template_columns": null,
            "grid_template_rows": null,
            "height": null,
            "justify_content": null,
            "justify_items": null,
            "left": null,
            "margin": null,
            "max_height": null,
            "max_width": null,
            "min_height": null,
            "min_width": null,
            "object_fit": null,
            "object_position": null,
            "order": null,
            "overflow": null,
            "overflow_x": null,
            "overflow_y": null,
            "padding": null,
            "right": null,
            "top": null,
            "visibility": null,
            "width": null
          }
        },
        "eefff9b5b81f4d29b3c99df11d4ae5f1": {
          "model_module": "@jupyter-widgets/controls",
          "model_name": "DescriptionStyleModel",
          "model_module_version": "1.5.0",
          "state": {
            "_model_module": "@jupyter-widgets/controls",
            "_model_module_version": "1.5.0",
            "_model_name": "DescriptionStyleModel",
            "_view_count": null,
            "_view_module": "@jupyter-widgets/base",
            "_view_module_version": "1.2.0",
            "_view_name": "StyleView",
            "description_width": ""
          }
        },
        "24a7dacd41f3400195cdccfbbe7d025f": {
          "model_module": "@jupyter-widgets/base",
          "model_name": "LayoutModel",
          "model_module_version": "1.2.0",
          "state": {
            "_model_module": "@jupyter-widgets/base",
            "_model_module_version": "1.2.0",
            "_model_name": "LayoutModel",
            "_view_count": null,
            "_view_module": "@jupyter-widgets/base",
            "_view_module_version": "1.2.0",
            "_view_name": "LayoutView",
            "align_content": null,
            "align_items": null,
            "align_self": null,
            "border": null,
            "bottom": null,
            "display": null,
            "flex": null,
            "flex_flow": null,
            "grid_area": null,
            "grid_auto_columns": null,
            "grid_auto_flow": null,
            "grid_auto_rows": null,
            "grid_column": null,
            "grid_gap": null,
            "grid_row": null,
            "grid_template_areas": null,
            "grid_template_columns": null,
            "grid_template_rows": null,
            "height": null,
            "justify_content": null,
            "justify_items": null,
            "left": null,
            "margin": null,
            "max_height": null,
            "max_width": null,
            "min_height": null,
            "min_width": null,
            "object_fit": null,
            "object_position": null,
            "order": null,
            "overflow": null,
            "overflow_x": null,
            "overflow_y": null,
            "padding": null,
            "right": null,
            "top": null,
            "visibility": null,
            "width": null
          }
        },
        "59797e401cc749ea8875da005fc63d87": {
          "model_module": "@jupyter-widgets/controls",
          "model_name": "ProgressStyleModel",
          "model_module_version": "1.5.0",
          "state": {
            "_model_module": "@jupyter-widgets/controls",
            "_model_module_version": "1.5.0",
            "_model_name": "ProgressStyleModel",
            "_view_count": null,
            "_view_module": "@jupyter-widgets/base",
            "_view_module_version": "1.2.0",
            "_view_name": "StyleView",
            "bar_color": null,
            "description_width": ""
          }
        },
        "6c894d0f70ff403aae358e401df9e3f2": {
          "model_module": "@jupyter-widgets/base",
          "model_name": "LayoutModel",
          "model_module_version": "1.2.0",
          "state": {
            "_model_module": "@jupyter-widgets/base",
            "_model_module_version": "1.2.0",
            "_model_name": "LayoutModel",
            "_view_count": null,
            "_view_module": "@jupyter-widgets/base",
            "_view_module_version": "1.2.0",
            "_view_name": "LayoutView",
            "align_content": null,
            "align_items": null,
            "align_self": null,
            "border": null,
            "bottom": null,
            "display": null,
            "flex": null,
            "flex_flow": null,
            "grid_area": null,
            "grid_auto_columns": null,
            "grid_auto_flow": null,
            "grid_auto_rows": null,
            "grid_column": null,
            "grid_gap": null,
            "grid_row": null,
            "grid_template_areas": null,
            "grid_template_columns": null,
            "grid_template_rows": null,
            "height": null,
            "justify_content": null,
            "justify_items": null,
            "left": null,
            "margin": null,
            "max_height": null,
            "max_width": null,
            "min_height": null,
            "min_width": null,
            "object_fit": null,
            "object_position": null,
            "order": null,
            "overflow": null,
            "overflow_x": null,
            "overflow_y": null,
            "padding": null,
            "right": null,
            "top": null,
            "visibility": null,
            "width": null
          }
        },
        "adbcc7c35b3e47dbb0a13f8f33efde9d": {
          "model_module": "@jupyter-widgets/controls",
          "model_name": "DescriptionStyleModel",
          "model_module_version": "1.5.0",
          "state": {
            "_model_module": "@jupyter-widgets/controls",
            "_model_module_version": "1.5.0",
            "_model_name": "DescriptionStyleModel",
            "_view_count": null,
            "_view_module": "@jupyter-widgets/base",
            "_view_module_version": "1.2.0",
            "_view_name": "StyleView",
            "description_width": ""
          }
        }
      }
    }
  },
  "nbformat": 4,
  "nbformat_minor": 0
}